{
 "cells": [
  {
   "cell_type": "markdown",
   "id": "0712586b",
   "metadata": {},
   "source": [
    "# Cats vs. Dogs"
   ]
  },
  {
   "cell_type": "markdown",
   "id": "ab46cad0",
   "metadata": {},
   "source": [
    "***"
   ]
  },
  {
   "cell_type": "markdown",
   "id": "4a011258",
   "metadata": {},
   "source": [
    "<img src=\"https://miro.medium.com/max/1400/1*biZq-ihFzq1I6Ssjz7UtdA.jpeg\" alt=\"Alt text that describes the graphic\" title=\"Title text\" />"
   ]
  },
  {
   "cell_type": "markdown",
   "id": "10083ec6",
   "metadata": {},
   "source": [
    "***"
   ]
  },
  {
   "cell_type": "markdown",
   "id": "0d61fdf2",
   "metadata": {},
   "source": [
    "# The steps we took:\n",
    "\n",
    "- **Importing necessary libraries** \n",
    "- **Loading and reshaping the data**\n",
    "- **Spliting the data into test and train sets**\n",
    "- **Dimension reduction**\n",
    "- **Visualizing the data**\n",
    "- **Selecting numer of components**\n",
    "- **Preprossecing**\n",
    "- **Model selection**\n",
    "- **Hyper Parameter tuning**\n",
    "- **Test**\n",
    "- **Resaults**"
   ]
  },
  {
   "cell_type": "code",
   "execution_count": 2,
   "id": "8ef795b4",
   "metadata": {},
   "outputs": [],
   "source": [
    "import numpy as np\n",
    "import pandas as pd\n",
    "import seaborn as sns\n",
    "import matplotlib.pyplot as plt\n",
    "%matplotlib inline\n",
    "import matplotlib.image as mpimg\n",
    "\n",
    "# Data Preprocessing:\n",
    "\n",
    "import cv2 as cv\n",
    "import os\n",
    "from sklearn.model_selection import train_test_split\n",
    "from sklearn.tree import plot_tree\n",
    "from sklearn import metrics\n",
    "from sklearn.metrics import classification_report,confusion_matrix,roc_curve, roc_auc_score, accuracy_score\n",
    "\n",
    "# Models:\n",
    "\n",
    "from sklearn.svm import SVC\n",
    "from sklearn import linear_model\n",
    "from sklearn.dummy import DummyClassifier\n",
    "from sklearn.neighbors import KNeighborsClassifier\n",
    "from sklearn.linear_model import LogisticRegression\n",
    "from sklearn.tree import DecisionTreeClassifier\n",
    "from sklearn.naive_bayes import GaussianNB\n",
    "from sklearn.ensemble import StackingClassifier\n",
    "from sklearn.ensemble import RandomForestClassifier\n",
    "from sklearn.ensemble import VotingClassifier\n",
    "from sklearn.ensemble import AdaBoostClassifier\n",
    "from sklearn.ensemble import GradientBoostingClassifier\n",
    "from sklearn.ensemble import StackingClassifier\n",
    "from xgboost import XGBClassifier\n",
    "\n",
    "# Clustering:\n",
    "\n",
    "from sklearn.cluster import KMeans\n",
    "\n",
    "# PCA:\n",
    "\n",
    "from sklearn.decomposition import PCA\n",
    "\n",
    "# ICA:\n",
    "\n",
    "from sklearn.decomposition import FastICA\n",
    "\n",
    "# Scaling:\n",
    "\n",
    "from sklearn.pipeline import Pipeline\n",
    "from sklearn.pipeline import make_pipeline\n",
    "from sklearn.preprocessing import StandardScaler, LabelEncoder, MinMaxScaler\n",
    "\n",
    "# Cross Validation:\n",
    "\n",
    "from sklearn.model_selection import cross_val_score, cross_val_predict\n",
    "from sklearn.model_selection import GridSearchCV\n",
    "from sklearn.model_selection import RandomizedSearchCV\n",
    "from sklearn.model_selection import train_test_split\n",
    "\n",
    "# Warings\n",
    "\n",
    "import warnings\n",
    "warnings.filterwarnings('ignore')"
   ]
  },
  {
   "cell_type": "code",
   "execution_count": 3,
   "id": "fc1e42f1",
   "metadata": {},
   "outputs": [
    {
     "name": "stdout",
     "output_type": "stream",
     "text": [
      "Requirement already satisfied: plotly in c:\\users\\gilad\\anaconda3\\lib\\site-packages (5.8.0)\n",
      "Requirement already satisfied: tenacity>=6.2.0 in c:\\users\\gilad\\anaconda3\\lib\\site-packages (from plotly) (8.0.1)\n",
      "Note: you may need to restart the kernel to use updated packages.\n"
     ]
    }
   ],
   "source": [
    "pip install plotly"
   ]
  },
  {
   "cell_type": "code",
   "execution_count": 4,
   "id": "6710a415",
   "metadata": {},
   "outputs": [
    {
     "name": "stdout",
     "output_type": "stream",
     "text": [
      "Requirement already satisfied: kaleido in c:\\users\\gilad\\anaconda3\\lib\\site-packages (0.2.1)\n",
      "Note: you may need to restart the kernel to use updated packages.\n"
     ]
    }
   ],
   "source": [
    "pip install -U kaleido"
   ]
  },
  {
   "cell_type": "code",
   "execution_count": 5,
   "id": "00869f6d",
   "metadata": {},
   "outputs": [
    {
     "name": "stdout",
     "output_type": "stream",
     "text": [
      "Requirement already satisfied: opencv-python in c:\\users\\gilad\\anaconda3\\lib\\site-packages (4.5.5.64)\n",
      "Requirement already satisfied: numpy>=1.19.3 in c:\\users\\gilad\\anaconda3\\lib\\site-packages (from opencv-python) (1.20.3)\n",
      "Note: you may need to restart the kernel to use updated packages.\n"
     ]
    }
   ],
   "source": [
    "pip install opencv-python"
   ]
  },
  {
   "cell_type": "code",
   "execution_count": 6,
   "id": "42d83fca",
   "metadata": {},
   "outputs": [],
   "source": [
    "import plotly.graph_objects as go\n",
    "import plotly.io as pio\n",
    "import plotly.express as px"
   ]
  },
  {
   "cell_type": "code",
   "execution_count": 7,
   "id": "900d519b",
   "metadata": {},
   "outputs": [],
   "source": [
    "def procces_image(img_path):\n",
    "    img = cv.imread(img_path) \n",
    "    img = cv.resize(img , (32,32)) # resize image to 32 by 32 pixels, with 3 elements each\n",
    "\n",
    "    img = img.reshape(32*32*3) # reshaping the image to a 1d array in the length of 32*32*3 \n",
    "    img = np.append(img, img.ravel().mean()) # adding the mean value to the array\n",
    "    return img"
   ]
  },
  {
   "cell_type": "code",
   "execution_count": 8,
   "id": "6f0325dc",
   "metadata": {},
   "outputs": [],
   "source": [
    "def load_data(path):\n",
    "    x = []\n",
    "    y = []\n",
    "\n",
    "    for file in os.listdir(path):\n",
    "        label = file.split('.')[0]\n",
    "        data = procces_image(\"{}/{}\".format(path,file))\n",
    "        x.append(data) \n",
    "        y.append(label)\n",
    "    return x,y"
   ]
  },
  {
   "cell_type": "markdown",
   "id": "2d685ce8",
   "metadata": {},
   "source": [
    "### Obtaining the data"
   ]
  },
  {
   "cell_type": "code",
   "execution_count": 9,
   "id": "20840b65",
   "metadata": {},
   "outputs": [],
   "source": [
    "# features, targets = load_data('C:\\\\Users\\Selfisher\\Desktop\\school\\DeiScei\\Project\\catsvdogs') # laptop \n",
    "features, targets = load_data(r'C:\\Users\\Gilad\\DogsvsCats\\train')    # home pc"
   ]
  },
  {
   "cell_type": "code",
   "execution_count": 10,
   "id": "b6adbbc6",
   "metadata": {},
   "outputs": [],
   "source": [
    "features = np.asarray(features)\n",
    "targets = np.asarray(targets)"
   ]
  },
  {
   "cell_type": "code",
   "execution_count": 11,
   "id": "33705878",
   "metadata": {},
   "outputs": [
    {
     "data": {
      "text/plain": [
       "(25000, 3073)"
      ]
     },
     "execution_count": 11,
     "metadata": {},
     "output_type": "execute_result"
    }
   ],
   "source": [
    "features.shape"
   ]
  },
  {
   "cell_type": "code",
   "execution_count": 12,
   "id": "918a4b07",
   "metadata": {},
   "outputs": [],
   "source": [
    "df = pd.DataFrame(features)\n",
    "df['label'] = targets"
   ]
  },
  {
   "cell_type": "code",
   "execution_count": 13,
   "id": "a086e5cc",
   "metadata": {},
   "outputs": [
    {
     "data": {
      "text/html": [
       "<div>\n",
       "<style scoped>\n",
       "    .dataframe tbody tr th:only-of-type {\n",
       "        vertical-align: middle;\n",
       "    }\n",
       "\n",
       "    .dataframe tbody tr th {\n",
       "        vertical-align: top;\n",
       "    }\n",
       "\n",
       "    .dataframe thead th {\n",
       "        text-align: right;\n",
       "    }\n",
       "</style>\n",
       "<table border=\"1\" class=\"dataframe\">\n",
       "  <thead>\n",
       "    <tr style=\"text-align: right;\">\n",
       "      <th></th>\n",
       "      <th>0</th>\n",
       "      <th>1</th>\n",
       "      <th>2</th>\n",
       "      <th>3</th>\n",
       "      <th>4</th>\n",
       "      <th>5</th>\n",
       "      <th>6</th>\n",
       "      <th>7</th>\n",
       "      <th>8</th>\n",
       "      <th>9</th>\n",
       "      <th>...</th>\n",
       "      <th>3064</th>\n",
       "      <th>3065</th>\n",
       "      <th>3066</th>\n",
       "      <th>3067</th>\n",
       "      <th>3068</th>\n",
       "      <th>3069</th>\n",
       "      <th>3070</th>\n",
       "      <th>3071</th>\n",
       "      <th>3072</th>\n",
       "      <th>label</th>\n",
       "    </tr>\n",
       "  </thead>\n",
       "  <tbody>\n",
       "    <tr>\n",
       "      <th>0</th>\n",
       "      <td>93.0</td>\n",
       "      <td>171.0</td>\n",
       "      <td>210.0</td>\n",
       "      <td>103.0</td>\n",
       "      <td>181.0</td>\n",
       "      <td>224.0</td>\n",
       "      <td>114.0</td>\n",
       "      <td>192.0</td>\n",
       "      <td>235.0</td>\n",
       "      <td>119.0</td>\n",
       "      <td>...</td>\n",
       "      <td>4.0</td>\n",
       "      <td>4.0</td>\n",
       "      <td>1.0</td>\n",
       "      <td>3.0</td>\n",
       "      <td>3.0</td>\n",
       "      <td>1.0</td>\n",
       "      <td>3.0</td>\n",
       "      <td>3.0</td>\n",
       "      <td>119.620768</td>\n",
       "      <td>cat</td>\n",
       "    </tr>\n",
       "    <tr>\n",
       "      <th>1</th>\n",
       "      <td>41.0</td>\n",
       "      <td>37.0</td>\n",
       "      <td>33.0</td>\n",
       "      <td>40.0</td>\n",
       "      <td>42.0</td>\n",
       "      <td>38.0</td>\n",
       "      <td>43.0</td>\n",
       "      <td>43.0</td>\n",
       "      <td>35.0</td>\n",
       "      <td>47.0</td>\n",
       "      <td>...</td>\n",
       "      <td>45.0</td>\n",
       "      <td>62.0</td>\n",
       "      <td>45.0</td>\n",
       "      <td>48.0</td>\n",
       "      <td>66.0</td>\n",
       "      <td>31.0</td>\n",
       "      <td>36.0</td>\n",
       "      <td>51.0</td>\n",
       "      <td>72.590495</td>\n",
       "      <td>cat</td>\n",
       "    </tr>\n",
       "    <tr>\n",
       "      <th>2</th>\n",
       "      <td>61.0</td>\n",
       "      <td>55.0</td>\n",
       "      <td>46.0</td>\n",
       "      <td>65.0</td>\n",
       "      <td>58.0</td>\n",
       "      <td>49.0</td>\n",
       "      <td>66.0</td>\n",
       "      <td>59.0</td>\n",
       "      <td>50.0</td>\n",
       "      <td>64.0</td>\n",
       "      <td>...</td>\n",
       "      <td>160.0</td>\n",
       "      <td>162.0</td>\n",
       "      <td>34.0</td>\n",
       "      <td>157.0</td>\n",
       "      <td>169.0</td>\n",
       "      <td>4.0</td>\n",
       "      <td>193.0</td>\n",
       "      <td>194.0</td>\n",
       "      <td>108.319661</td>\n",
       "      <td>cat</td>\n",
       "    </tr>\n",
       "    <tr>\n",
       "      <th>3</th>\n",
       "      <td>217.0</td>\n",
       "      <td>222.0</td>\n",
       "      <td>221.0</td>\n",
       "      <td>229.0</td>\n",
       "      <td>229.0</td>\n",
       "      <td>229.0</td>\n",
       "      <td>228.0</td>\n",
       "      <td>228.0</td>\n",
       "      <td>228.0</td>\n",
       "      <td>224.0</td>\n",
       "      <td>...</td>\n",
       "      <td>202.0</td>\n",
       "      <td>202.0</td>\n",
       "      <td>215.0</td>\n",
       "      <td>215.0</td>\n",
       "      <td>214.0</td>\n",
       "      <td>207.0</td>\n",
       "      <td>212.0</td>\n",
       "      <td>215.0</td>\n",
       "      <td>164.578451</td>\n",
       "      <td>cat</td>\n",
       "    </tr>\n",
       "    <tr>\n",
       "      <th>4</th>\n",
       "      <td>64.0</td>\n",
       "      <td>100.0</td>\n",
       "      <td>126.0</td>\n",
       "      <td>53.0</td>\n",
       "      <td>92.0</td>\n",
       "      <td>118.0</td>\n",
       "      <td>63.0</td>\n",
       "      <td>104.0</td>\n",
       "      <td>129.0</td>\n",
       "      <td>108.0</td>\n",
       "      <td>...</td>\n",
       "      <td>72.0</td>\n",
       "      <td>86.0</td>\n",
       "      <td>77.0</td>\n",
       "      <td>101.0</td>\n",
       "      <td>116.0</td>\n",
       "      <td>55.0</td>\n",
       "      <td>82.0</td>\n",
       "      <td>94.0</td>\n",
       "      <td>103.436198</td>\n",
       "      <td>cat</td>\n",
       "    </tr>\n",
       "  </tbody>\n",
       "</table>\n",
       "<p>5 rows × 3074 columns</p>\n",
       "</div>"
      ],
      "text/plain": [
       "       0      1      2      3      4      5      6      7      8      9  ...  \\\n",
       "0   93.0  171.0  210.0  103.0  181.0  224.0  114.0  192.0  235.0  119.0  ...   \n",
       "1   41.0   37.0   33.0   40.0   42.0   38.0   43.0   43.0   35.0   47.0  ...   \n",
       "2   61.0   55.0   46.0   65.0   58.0   49.0   66.0   59.0   50.0   64.0  ...   \n",
       "3  217.0  222.0  221.0  229.0  229.0  229.0  228.0  228.0  228.0  224.0  ...   \n",
       "4   64.0  100.0  126.0   53.0   92.0  118.0   63.0  104.0  129.0  108.0  ...   \n",
       "\n",
       "    3064   3065   3066   3067   3068   3069   3070   3071        3072  label  \n",
       "0    4.0    4.0    1.0    3.0    3.0    1.0    3.0    3.0  119.620768    cat  \n",
       "1   45.0   62.0   45.0   48.0   66.0   31.0   36.0   51.0   72.590495    cat  \n",
       "2  160.0  162.0   34.0  157.0  169.0    4.0  193.0  194.0  108.319661    cat  \n",
       "3  202.0  202.0  215.0  215.0  214.0  207.0  212.0  215.0  164.578451    cat  \n",
       "4   72.0   86.0   77.0  101.0  116.0   55.0   82.0   94.0  103.436198    cat  \n",
       "\n",
       "[5 rows x 3074 columns]"
      ]
     },
     "execution_count": 13,
     "metadata": {},
     "output_type": "execute_result"
    }
   ],
   "source": [
    "df.head()"
   ]
  },
  {
   "cell_type": "code",
   "execution_count": 14,
   "id": "b5a82daf",
   "metadata": {},
   "outputs": [],
   "source": [
    "features = df.drop(['label'], axis=1)\n",
    "targets = df['label']"
   ]
  },
  {
   "cell_type": "markdown",
   "id": "cb2613a3",
   "metadata": {},
   "source": [
    "Splitting the data into train and test sets with random state of 42 as we agreed"
   ]
  },
  {
   "cell_type": "code",
   "execution_count": 15,
   "id": "73f11cb3",
   "metadata": {},
   "outputs": [],
   "source": [
    "x_train, x_test, y_train, y_test = train_test_split(features, targets ,random_state = 42)"
   ]
  },
  {
   "cell_type": "code",
   "execution_count": 16,
   "id": "f591892f",
   "metadata": {},
   "outputs": [
    {
     "data": {
      "text/plain": [
       "cat    9391\n",
       "dog    9359\n",
       "Name: label, dtype: int64"
      ]
     },
     "execution_count": 16,
     "metadata": {},
     "output_type": "execute_result"
    }
   ],
   "source": [
    "y_train.value_counts() # Raughly the same amount of cats and dogs"
   ]
  },
  {
   "cell_type": "markdown",
   "id": "4f8a73cc",
   "metadata": {},
   "source": [
    "# Dimension reduction"
   ]
  },
  {
   "cell_type": "code",
   "execution_count": 17,
   "id": "5a8ace8d",
   "metadata": {},
   "outputs": [
    {
     "data": {
      "text/plain": [
       "PCA()"
      ]
     },
     "execution_count": 17,
     "metadata": {},
     "output_type": "execute_result"
    }
   ],
   "source": [
    "pca = PCA()\n",
    "pca.fit(x_train)"
   ]
  },
  {
   "cell_type": "code",
   "execution_count": 18,
   "id": "a28c7f8e",
   "metadata": {},
   "outputs": [
    {
     "data": {
      "text/html": [
       "<div>\n",
       "<style scoped>\n",
       "    .dataframe tbody tr th:only-of-type {\n",
       "        vertical-align: middle;\n",
       "    }\n",
       "\n",
       "    .dataframe tbody tr th {\n",
       "        vertical-align: top;\n",
       "    }\n",
       "\n",
       "    .dataframe thead th {\n",
       "        text-align: right;\n",
       "    }\n",
       "</style>\n",
       "<table border=\"1\" class=\"dataframe\">\n",
       "  <thead>\n",
       "    <tr style=\"text-align: right;\">\n",
       "      <th></th>\n",
       "      <th>var_explained</th>\n",
       "    </tr>\n",
       "  </thead>\n",
       "  <tbody>\n",
       "    <tr>\n",
       "      <th>0</th>\n",
       "      <td>18.998383</td>\n",
       "    </tr>\n",
       "    <tr>\n",
       "      <th>1</th>\n",
       "      <td>10.521264</td>\n",
       "    </tr>\n",
       "    <tr>\n",
       "      <th>2</th>\n",
       "      <td>7.209609</td>\n",
       "    </tr>\n",
       "    <tr>\n",
       "      <th>3</th>\n",
       "      <td>5.701735</td>\n",
       "    </tr>\n",
       "    <tr>\n",
       "      <th>4</th>\n",
       "      <td>3.010888</td>\n",
       "    </tr>\n",
       "  </tbody>\n",
       "</table>\n",
       "</div>"
      ],
      "text/plain": [
       "   var_explained\n",
       "0      18.998383\n",
       "1      10.521264\n",
       "2       7.209609\n",
       "3       5.701735\n",
       "4       3.010888"
      ]
     },
     "execution_count": 18,
     "metadata": {},
     "output_type": "execute_result"
    }
   ],
   "source": [
    "expl = pd.DataFrame(pca.explained_variance_ratio_*100, columns= ['var_explained'])\n",
    "expl.head()"
   ]
  },
  {
   "cell_type": "code",
   "execution_count": 19,
   "id": "aa7c12d9",
   "metadata": {},
   "outputs": [],
   "source": [
    "expl = expl.head(250)"
   ]
  },
  {
   "cell_type": "code",
   "execution_count": 20,
   "id": "ca056b27",
   "metadata": {},
   "outputs": [
    {
     "data": {
      "image/png": "[encoded data removed]",
      "text/plain": [
       "<Figure size 432x288 with 1 Axes>"
      ]
     },
     "metadata": {
      "needs_background": "light"
     },
     "output_type": "display_data"
    }
   ],
   "source": [
    "plt.bar(x = range(1, len(expl)+1), height = expl.var_explained)\n",
    "plt.ylabel('% of explained variance')\n",
    "plt.xlabel('# principal component')\n",
    "plt.title('Partial scree plot')\n",
    "plt.show()"
   ]
  },
  {
   "cell_type": "code",
   "execution_count": 21,
   "id": "f6dc2c90",
   "metadata": {},
   "outputs": [
    {
     "data": {
      "text/plain": [
       "75.0607724802838"
      ]
     },
     "execution_count": 21,
     "metadata": {},
     "output_type": "execute_result"
    }
   ],
   "source": [
    "sum(expl.iloc[:50].var_explained)"
   ]
  },
  {
   "cell_type": "code",
   "execution_count": 22,
   "id": "c4be72b9",
   "metadata": {},
   "outputs": [],
   "source": [
    "total_explained = []\n",
    "ind =[]\n",
    "for i in range(1, 300):\n",
    "    ind.append(i)\n",
    "    total_explained.append(sum(expl.iloc[:i].var_explained))"
   ]
  },
  {
   "cell_type": "code",
   "execution_count": 23,
   "id": "bdae8bac",
   "metadata": {},
   "outputs": [
    {
     "data": {
      "text/html": [
       "<div>\n",
       "<style scoped>\n",
       "    .dataframe tbody tr th:only-of-type {\n",
       "        vertical-align: middle;\n",
       "    }\n",
       "\n",
       "    .dataframe tbody tr th {\n",
       "        vertical-align: top;\n",
       "    }\n",
       "\n",
       "    .dataframe thead th {\n",
       "        text-align: right;\n",
       "    }\n",
       "</style>\n",
       "<table border=\"1\" class=\"dataframe\">\n",
       "  <thead>\n",
       "    <tr style=\"text-align: right;\">\n",
       "      <th></th>\n",
       "      <th>var_explained_total</th>\n",
       "    </tr>\n",
       "  </thead>\n",
       "  <tbody>\n",
       "    <tr>\n",
       "      <th>1</th>\n",
       "      <td>18.998383</td>\n",
       "    </tr>\n",
       "    <tr>\n",
       "      <th>2</th>\n",
       "      <td>29.519646</td>\n",
       "    </tr>\n",
       "    <tr>\n",
       "      <th>3</th>\n",
       "      <td>36.729255</td>\n",
       "    </tr>\n",
       "    <tr>\n",
       "      <th>4</th>\n",
       "      <td>42.430991</td>\n",
       "    </tr>\n",
       "    <tr>\n",
       "      <th>5</th>\n",
       "      <td>45.441879</td>\n",
       "    </tr>\n",
       "    <tr>\n",
       "      <th>...</th>\n",
       "      <td>...</td>\n",
       "    </tr>\n",
       "    <tr>\n",
       "      <th>295</th>\n",
       "      <td>88.640355</td>\n",
       "    </tr>\n",
       "    <tr>\n",
       "      <th>296</th>\n",
       "      <td>88.640355</td>\n",
       "    </tr>\n",
       "    <tr>\n",
       "      <th>297</th>\n",
       "      <td>88.640355</td>\n",
       "    </tr>\n",
       "    <tr>\n",
       "      <th>298</th>\n",
       "      <td>88.640355</td>\n",
       "    </tr>\n",
       "    <tr>\n",
       "      <th>299</th>\n",
       "      <td>88.640355</td>\n",
       "    </tr>\n",
       "  </tbody>\n",
       "</table>\n",
       "<p>299 rows × 1 columns</p>\n",
       "</div>"
      ],
      "text/plain": [
       "     var_explained_total\n",
       "1              18.998383\n",
       "2              29.519646\n",
       "3              36.729255\n",
       "4              42.430991\n",
       "5              45.441879\n",
       "..                   ...\n",
       "295            88.640355\n",
       "296            88.640355\n",
       "297            88.640355\n",
       "298            88.640355\n",
       "299            88.640355\n",
       "\n",
       "[299 rows x 1 columns]"
      ]
     },
     "execution_count": 23,
     "metadata": {},
     "output_type": "execute_result"
    }
   ],
   "source": [
    "total_explained = pd.DataFrame( total_explained, index = ind, columns = ['var_explained_total'])\n",
    "total_explained"
   ]
  },
  {
   "cell_type": "code",
   "execution_count": 24,
   "id": "9f031110",
   "metadata": {},
   "outputs": [
    {
     "name": "stdout",
     "output_type": "stream",
     "text": [
      "Here, we see how much of the variance is explained by using components 1 through X\n"
     ]
    },
    {
     "data": {
      "image/png": "[encoded data removed]",
      "text/plain": [
       "<Figure size 720x288 with 1 Axes>"
      ]
     },
     "metadata": {
      "needs_background": "light"
     },
     "output_type": "display_data"
    }
   ],
   "source": [
    "print('Here, we see how much of the variance is explained by using components 1 through X')\n",
    "plt.figure(figsize = (10,4))\n",
    "plt.bar(x = range(1, len(total_explained)+1), height = total_explained.var_explained_total, width=1)\n",
    "plt.ylabel('% of explained variance')\n",
    "plt.xlabel('Number of components used')\n",
    "plt.show()"
   ]
  },
  {
   "cell_type": "markdown",
   "id": "d4cc2094",
   "metadata": {},
   "source": [
    "We hit a plato at around X = 250"
   ]
  },
  {
   "cell_type": "code",
   "execution_count": 25,
   "id": "1a1ab591",
   "metadata": {},
   "outputs": [
    {
     "data": {
      "text/plain": [
       "88.64035464495302"
      ]
     },
     "execution_count": 25,
     "metadata": {},
     "output_type": "execute_result"
    }
   ],
   "source": [
    "np.max(total_explained.var_explained_total)"
   ]
  },
  {
   "cell_type": "markdown",
   "id": "0446c11c",
   "metadata": {},
   "source": [
    "We can only account for 88.64% of the variance.\n",
    "This means that our data is quite noisy"
   ]
  },
  {
   "cell_type": "code",
   "execution_count": 26,
   "id": "3c7e345a",
   "metadata": {},
   "outputs": [
    {
     "data": {
      "text/plain": [
       "244"
      ]
     },
     "execution_count": 26,
     "metadata": {},
     "output_type": "execute_result"
    }
   ],
   "source": [
    "pca = PCA(n_components=0.89)\n",
    "x_train_reduced = pca.fit_transform(x_train)\n",
    "x_test_reduced = pca.fit_transform(x_test)\n",
    "pca.n_components_"
   ]
  },
  {
   "cell_type": "code",
   "execution_count": 27,
   "id": "efeb0810",
   "metadata": {},
   "outputs": [
    {
     "data": {
      "text/plain": [
       "147"
      ]
     },
     "execution_count": 27,
     "metadata": {},
     "output_type": "execute_result"
    }
   ],
   "source": [
    "pca = PCA(n_components=0.85)\n",
    "x_train_reduced = pca.fit_transform(x_train)\n",
    "x_test_reduced = pca.fit_transform(x_test)\n",
    "pca.n_components_"
   ]
  },
  {
   "cell_type": "code",
   "execution_count": 28,
   "id": "81319860",
   "metadata": {},
   "outputs": [
    {
     "data": {
      "text/plain": [
       "Text(0.5, 1.0, 'Scree plot')"
      ]
     },
     "execution_count": 28,
     "metadata": {},
     "output_type": "execute_result"
    },
    {
     "data": {
      "image/png": "[encoded data removed]",
      "text/plain": [
       "<Figure size 936x288 with 1 Axes>"
      ]
     },
     "metadata": {
      "needs_background": "light"
     },
     "output_type": "display_data"
    }
   ],
   "source": [
    "per_var = (pca.explained_variance_ratio_*100)\n",
    "\n",
    "plt.figure(figsize = (13,4))\n",
    "plt.bar(x=range(1,len(per_var)+1), height=per_var)\n",
    "plt.ylabel('% of explained variance')\n",
    "plt.xlabel('Peincipal component')\n",
    "plt.title('Scree plot')\n"
   ]
  },
  {
   "cell_type": "markdown",
   "id": "d4c30490",
   "metadata": {},
   "source": [
    "### To explain 85% of the variance we only need 147 components\n",
    "We chose to use only 147 to minimize runtime in future testings without loosing a substantial amount of variance"
   ]
  },
  {
   "cell_type": "code",
   "execution_count": 29,
   "id": "3f52a60a",
   "metadata": {},
   "outputs": [
    {
     "data": {
      "image/png": "[encoded data removed]"
     },
     "metadata": {},
     "output_type": "display_data"
    }
   ],
   "source": [
    "fig = px.scatter_3d(x_train_reduced,\n",
    "    x=0, y=1, z=2, color = y_train,\n",
    "    labels={'0': 'PC 1', '1': 'PC 2', '2': 'PC 3'})\n",
    "\n",
    "fig.show('png')"
   ]
  },
  {
   "cell_type": "code",
   "execution_count": 30,
   "id": "7c327a5c",
   "metadata": {},
   "outputs": [
    {
     "data": {
      "image/png": "[encoded data removed]"
     },
     "metadata": {},
     "output_type": "display_data"
    }
   ],
   "source": [
    "fig = px.scatter(x_train_reduced,\n",
    "    x=0, y=1, color = y_train,\n",
    "    labels={'0': 'PC 1', '1': 'PC 2'})\n",
    "\n",
    "fig.show('png')"
   ]
  },
  {
   "cell_type": "markdown",
   "id": "c7a0a9a8",
   "metadata": {},
   "source": [
    "### Conclusions from graphs:\n",
    "The data is still very noisy and the two catagories don't cluster together that much. <br>\n",
    "But I still think we can get a decent accuracy"
   ]
  },
  {
   "cell_type": "markdown",
   "id": "379ba913",
   "metadata": {},
   "source": [
    " "
   ]
  },
  {
   "cell_type": "markdown",
   "id": "3af85663",
   "metadata": {},
   "source": [
    "## Preprocessing\n",
    "### Now we will reduce our data and scale it down so it's better suitable for most algorithms"
   ]
  },
  {
   "cell_type": "code",
   "execution_count": 32,
   "id": "5bd58572",
   "metadata": {},
   "outputs": [],
   "source": [
    "preprocessor = Pipeline(([('scaler',StandardScaler()), ('pca',PCA(n_components=0.85))]))\n",
    "x_train_processed = preprocessor.fit_transform(x_train)"
   ]
  },
  {
   "cell_type": "code",
   "execution_count": 33,
   "id": "1b9cbb55",
   "metadata": {},
   "outputs": [
    {
     "data": {
      "text/html": [
       "<div>\n",
       "<style scoped>\n",
       "    .dataframe tbody tr th:only-of-type {\n",
       "        vertical-align: middle;\n",
       "    }\n",
       "\n",
       "    .dataframe tbody tr th {\n",
       "        vertical-align: top;\n",
       "    }\n",
       "\n",
       "    .dataframe thead th {\n",
       "        text-align: right;\n",
       "    }\n",
       "</style>\n",
       "<table border=\"1\" class=\"dataframe\">\n",
       "  <thead>\n",
       "    <tr style=\"text-align: right;\">\n",
       "      <th></th>\n",
       "      <th>0</th>\n",
       "      <th>1</th>\n",
       "      <th>2</th>\n",
       "      <th>3</th>\n",
       "      <th>4</th>\n",
       "      <th>5</th>\n",
       "      <th>6</th>\n",
       "      <th>7</th>\n",
       "      <th>8</th>\n",
       "      <th>9</th>\n",
       "      <th>...</th>\n",
       "      <th>146</th>\n",
       "      <th>147</th>\n",
       "      <th>148</th>\n",
       "      <th>149</th>\n",
       "      <th>150</th>\n",
       "      <th>151</th>\n",
       "      <th>152</th>\n",
       "      <th>153</th>\n",
       "      <th>154</th>\n",
       "      <th>155</th>\n",
       "    </tr>\n",
       "  </thead>\n",
       "  <tbody>\n",
       "    <tr>\n",
       "      <th>0</th>\n",
       "      <td>32.116103</td>\n",
       "      <td>-4.242067</td>\n",
       "      <td>10.534880</td>\n",
       "      <td>32.237813</td>\n",
       "      <td>3.933156</td>\n",
       "      <td>-3.870708</td>\n",
       "      <td>9.926157</td>\n",
       "      <td>12.338024</td>\n",
       "      <td>-3.140245</td>\n",
       "      <td>6.037986</td>\n",
       "      <td>...</td>\n",
       "      <td>-0.197290</td>\n",
       "      <td>1.123880</td>\n",
       "      <td>0.141033</td>\n",
       "      <td>-0.805804</td>\n",
       "      <td>0.452694</td>\n",
       "      <td>0.342981</td>\n",
       "      <td>0.752648</td>\n",
       "      <td>-1.414811</td>\n",
       "      <td>1.264099</td>\n",
       "      <td>-0.090686</td>\n",
       "    </tr>\n",
       "    <tr>\n",
       "      <th>1</th>\n",
       "      <td>-9.440407</td>\n",
       "      <td>2.047672</td>\n",
       "      <td>9.406068</td>\n",
       "      <td>-22.751075</td>\n",
       "      <td>9.899042</td>\n",
       "      <td>12.036935</td>\n",
       "      <td>-1.398986</td>\n",
       "      <td>-7.650490</td>\n",
       "      <td>-1.304138</td>\n",
       "      <td>-4.494771</td>\n",
       "      <td>...</td>\n",
       "      <td>-0.353248</td>\n",
       "      <td>1.798115</td>\n",
       "      <td>-1.484575</td>\n",
       "      <td>-1.206999</td>\n",
       "      <td>1.171969</td>\n",
       "      <td>1.644035</td>\n",
       "      <td>-0.214486</td>\n",
       "      <td>-0.547273</td>\n",
       "      <td>-0.335627</td>\n",
       "      <td>-0.061609</td>\n",
       "    </tr>\n",
       "    <tr>\n",
       "      <th>2</th>\n",
       "      <td>-7.455281</td>\n",
       "      <td>12.322576</td>\n",
       "      <td>18.746273</td>\n",
       "      <td>-19.014104</td>\n",
       "      <td>4.575312</td>\n",
       "      <td>13.958802</td>\n",
       "      <td>-4.838900</td>\n",
       "      <td>7.405407</td>\n",
       "      <td>-2.463403</td>\n",
       "      <td>-13.885546</td>\n",
       "      <td>...</td>\n",
       "      <td>0.065789</td>\n",
       "      <td>0.655190</td>\n",
       "      <td>2.104908</td>\n",
       "      <td>0.222940</td>\n",
       "      <td>0.607090</td>\n",
       "      <td>-1.112242</td>\n",
       "      <td>0.793961</td>\n",
       "      <td>0.837418</td>\n",
       "      <td>-2.159456</td>\n",
       "      <td>-0.570468</td>\n",
       "    </tr>\n",
       "    <tr>\n",
       "      <th>3</th>\n",
       "      <td>-28.361639</td>\n",
       "      <td>-25.195813</td>\n",
       "      <td>2.189069</td>\n",
       "      <td>7.192308</td>\n",
       "      <td>14.815267</td>\n",
       "      <td>-2.393227</td>\n",
       "      <td>-8.465436</td>\n",
       "      <td>-0.316258</td>\n",
       "      <td>-0.923468</td>\n",
       "      <td>-7.714471</td>\n",
       "      <td>...</td>\n",
       "      <td>1.182683</td>\n",
       "      <td>-0.146038</td>\n",
       "      <td>-0.222212</td>\n",
       "      <td>-1.310262</td>\n",
       "      <td>-2.495182</td>\n",
       "      <td>1.069667</td>\n",
       "      <td>2.251653</td>\n",
       "      <td>0.162940</td>\n",
       "      <td>-1.468623</td>\n",
       "      <td>0.961253</td>\n",
       "    </tr>\n",
       "    <tr>\n",
       "      <th>4</th>\n",
       "      <td>-9.796369</td>\n",
       "      <td>-2.566132</td>\n",
       "      <td>12.208895</td>\n",
       "      <td>-12.991793</td>\n",
       "      <td>13.602280</td>\n",
       "      <td>9.073410</td>\n",
       "      <td>-18.939721</td>\n",
       "      <td>7.516694</td>\n",
       "      <td>-3.001884</td>\n",
       "      <td>-6.660454</td>\n",
       "      <td>...</td>\n",
       "      <td>-0.362040</td>\n",
       "      <td>-0.569321</td>\n",
       "      <td>0.318068</td>\n",
       "      <td>-1.163787</td>\n",
       "      <td>1.507706</td>\n",
       "      <td>0.790296</td>\n",
       "      <td>0.074267</td>\n",
       "      <td>2.056074</td>\n",
       "      <td>-1.714714</td>\n",
       "      <td>0.818699</td>\n",
       "    </tr>\n",
       "    <tr>\n",
       "      <th>...</th>\n",
       "      <td>...</td>\n",
       "      <td>...</td>\n",
       "      <td>...</td>\n",
       "      <td>...</td>\n",
       "      <td>...</td>\n",
       "      <td>...</td>\n",
       "      <td>...</td>\n",
       "      <td>...</td>\n",
       "      <td>...</td>\n",
       "      <td>...</td>\n",
       "      <td>...</td>\n",
       "      <td>...</td>\n",
       "      <td>...</td>\n",
       "      <td>...</td>\n",
       "      <td>...</td>\n",
       "      <td>...</td>\n",
       "      <td>...</td>\n",
       "      <td>...</td>\n",
       "      <td>...</td>\n",
       "      <td>...</td>\n",
       "      <td>...</td>\n",
       "    </tr>\n",
       "    <tr>\n",
       "      <th>18745</th>\n",
       "      <td>-28.485273</td>\n",
       "      <td>6.699900</td>\n",
       "      <td>-4.941277</td>\n",
       "      <td>-13.995914</td>\n",
       "      <td>13.506104</td>\n",
       "      <td>8.892236</td>\n",
       "      <td>-5.315394</td>\n",
       "      <td>-2.077521</td>\n",
       "      <td>4.234827</td>\n",
       "      <td>8.547305</td>\n",
       "      <td>...</td>\n",
       "      <td>-0.832853</td>\n",
       "      <td>1.685360</td>\n",
       "      <td>1.265527</td>\n",
       "      <td>-1.030833</td>\n",
       "      <td>0.678967</td>\n",
       "      <td>0.973401</td>\n",
       "      <td>-0.174530</td>\n",
       "      <td>0.841144</td>\n",
       "      <td>0.411782</td>\n",
       "      <td>-2.801223</td>\n",
       "    </tr>\n",
       "    <tr>\n",
       "      <th>18746</th>\n",
       "      <td>54.337835</td>\n",
       "      <td>-21.794224</td>\n",
       "      <td>1.335331</td>\n",
       "      <td>-10.553979</td>\n",
       "      <td>26.203121</td>\n",
       "      <td>-1.969992</td>\n",
       "      <td>-0.324042</td>\n",
       "      <td>-1.218019</td>\n",
       "      <td>2.330583</td>\n",
       "      <td>-2.575895</td>\n",
       "      <td>...</td>\n",
       "      <td>-0.766008</td>\n",
       "      <td>-1.334849</td>\n",
       "      <td>-0.682611</td>\n",
       "      <td>-0.715735</td>\n",
       "      <td>-1.944163</td>\n",
       "      <td>-0.999382</td>\n",
       "      <td>-0.043297</td>\n",
       "      <td>-1.388513</td>\n",
       "      <td>-0.658132</td>\n",
       "      <td>0.123138</td>\n",
       "    </tr>\n",
       "    <tr>\n",
       "      <th>18747</th>\n",
       "      <td>-10.227477</td>\n",
       "      <td>13.726325</td>\n",
       "      <td>-18.732310</td>\n",
       "      <td>-7.894555</td>\n",
       "      <td>-2.985082</td>\n",
       "      <td>3.252982</td>\n",
       "      <td>-4.959526</td>\n",
       "      <td>6.215810</td>\n",
       "      <td>8.600993</td>\n",
       "      <td>-9.163113</td>\n",
       "      <td>...</td>\n",
       "      <td>-0.683685</td>\n",
       "      <td>2.066637</td>\n",
       "      <td>0.410259</td>\n",
       "      <td>0.202514</td>\n",
       "      <td>-0.439205</td>\n",
       "      <td>0.089108</td>\n",
       "      <td>-0.040028</td>\n",
       "      <td>-0.172656</td>\n",
       "      <td>0.658177</td>\n",
       "      <td>0.685152</td>\n",
       "    </tr>\n",
       "    <tr>\n",
       "      <th>18748</th>\n",
       "      <td>15.858120</td>\n",
       "      <td>13.908308</td>\n",
       "      <td>5.843841</td>\n",
       "      <td>-2.325497</td>\n",
       "      <td>-4.322653</td>\n",
       "      <td>0.166046</td>\n",
       "      <td>-5.080591</td>\n",
       "      <td>-9.206539</td>\n",
       "      <td>-4.002537</td>\n",
       "      <td>11.970370</td>\n",
       "      <td>...</td>\n",
       "      <td>-2.560753</td>\n",
       "      <td>2.605879</td>\n",
       "      <td>0.833290</td>\n",
       "      <td>-1.093218</td>\n",
       "      <td>0.418870</td>\n",
       "      <td>-1.245166</td>\n",
       "      <td>-1.839935</td>\n",
       "      <td>-0.530950</td>\n",
       "      <td>-1.656346</td>\n",
       "      <td>-0.889152</td>\n",
       "    </tr>\n",
       "    <tr>\n",
       "      <th>18749</th>\n",
       "      <td>-28.652759</td>\n",
       "      <td>1.768405</td>\n",
       "      <td>-16.041864</td>\n",
       "      <td>-4.269862</td>\n",
       "      <td>-7.160320</td>\n",
       "      <td>-0.117869</td>\n",
       "      <td>-1.542164</td>\n",
       "      <td>0.589013</td>\n",
       "      <td>-9.545345</td>\n",
       "      <td>6.483783</td>\n",
       "      <td>...</td>\n",
       "      <td>-0.829452</td>\n",
       "      <td>0.055288</td>\n",
       "      <td>-1.593465</td>\n",
       "      <td>0.235367</td>\n",
       "      <td>1.383069</td>\n",
       "      <td>1.377334</td>\n",
       "      <td>-1.311431</td>\n",
       "      <td>-0.831066</td>\n",
       "      <td>-1.117014</td>\n",
       "      <td>1.735766</td>\n",
       "    </tr>\n",
       "  </tbody>\n",
       "</table>\n",
       "<p>18750 rows × 156 columns</p>\n",
       "</div>"
      ],
      "text/plain": [
       "             0          1          2          3          4          5    \\\n",
       "0      32.116103  -4.242067  10.534880  32.237813   3.933156  -3.870708   \n",
       "1      -9.440407   2.047672   9.406068 -22.751075   9.899042  12.036935   \n",
       "2      -7.455281  12.322576  18.746273 -19.014104   4.575312  13.958802   \n",
       "3     -28.361639 -25.195813   2.189069   7.192308  14.815267  -2.393227   \n",
       "4      -9.796369  -2.566132  12.208895 -12.991793  13.602280   9.073410   \n",
       "...          ...        ...        ...        ...        ...        ...   \n",
       "18745 -28.485273   6.699900  -4.941277 -13.995914  13.506104   8.892236   \n",
       "18746  54.337835 -21.794224   1.335331 -10.553979  26.203121  -1.969992   \n",
       "18747 -10.227477  13.726325 -18.732310  -7.894555  -2.985082   3.252982   \n",
       "18748  15.858120  13.908308   5.843841  -2.325497  -4.322653   0.166046   \n",
       "18749 -28.652759   1.768405 -16.041864  -4.269862  -7.160320  -0.117869   \n",
       "\n",
       "             6          7         8          9    ...       146       147  \\\n",
       "0       9.926157  12.338024 -3.140245   6.037986  ... -0.197290  1.123880   \n",
       "1      -1.398986  -7.650490 -1.304138  -4.494771  ... -0.353248  1.798115   \n",
       "2      -4.838900   7.405407 -2.463403 -13.885546  ...  0.065789  0.655190   \n",
       "3      -8.465436  -0.316258 -0.923468  -7.714471  ...  1.182683 -0.146038   \n",
       "4     -18.939721   7.516694 -3.001884  -6.660454  ... -0.362040 -0.569321   \n",
       "...          ...        ...       ...        ...  ...       ...       ...   \n",
       "18745  -5.315394  -2.077521  4.234827   8.547305  ... -0.832853  1.685360   \n",
       "18746  -0.324042  -1.218019  2.330583  -2.575895  ... -0.766008 -1.334849   \n",
       "18747  -4.959526   6.215810  8.600993  -9.163113  ... -0.683685  2.066637   \n",
       "18748  -5.080591  -9.206539 -4.002537  11.970370  ... -2.560753  2.605879   \n",
       "18749  -1.542164   0.589013 -9.545345   6.483783  ... -0.829452  0.055288   \n",
       "\n",
       "            148       149       150       151       152       153       154  \\\n",
       "0      0.141033 -0.805804  0.452694  0.342981  0.752648 -1.414811  1.264099   \n",
       "1     -1.484575 -1.206999  1.171969  1.644035 -0.214486 -0.547273 -0.335627   \n",
       "2      2.104908  0.222940  0.607090 -1.112242  0.793961  0.837418 -2.159456   \n",
       "3     -0.222212 -1.310262 -2.495182  1.069667  2.251653  0.162940 -1.468623   \n",
       "4      0.318068 -1.163787  1.507706  0.790296  0.074267  2.056074 -1.714714   \n",
       "...         ...       ...       ...       ...       ...       ...       ...   \n",
       "18745  1.265527 -1.030833  0.678967  0.973401 -0.174530  0.841144  0.411782   \n",
       "18746 -0.682611 -0.715735 -1.944163 -0.999382 -0.043297 -1.388513 -0.658132   \n",
       "18747  0.410259  0.202514 -0.439205  0.089108 -0.040028 -0.172656  0.658177   \n",
       "18748  0.833290 -1.093218  0.418870 -1.245166 -1.839935 -0.530950 -1.656346   \n",
       "18749 -1.593465  0.235367  1.383069  1.377334 -1.311431 -0.831066 -1.117014   \n",
       "\n",
       "            155  \n",
       "0     -0.090686  \n",
       "1     -0.061609  \n",
       "2     -0.570468  \n",
       "3      0.961253  \n",
       "4      0.818699  \n",
       "...         ...  \n",
       "18745 -2.801223  \n",
       "18746  0.123138  \n",
       "18747  0.685152  \n",
       "18748 -0.889152  \n",
       "18749  1.735766  \n",
       "\n",
       "[18750 rows x 156 columns]"
      ]
     },
     "execution_count": 33,
     "metadata": {},
     "output_type": "execute_result"
    }
   ],
   "source": [
    "pd.DataFrame(x_train_processed)"
   ]
  },
  {
   "cell_type": "markdown",
   "id": "e510267f",
   "metadata": {},
   "source": [
    "## Dummy Classifier"
   ]
  },
  {
   "cell_type": "code",
   "execution_count": 39,
   "id": "84a09915",
   "metadata": {},
   "outputs": [],
   "source": [
    "dum = DummyClassifier(strategy= \"most_frequent\")"
   ]
  },
  {
   "cell_type": "code",
   "execution_count": 40,
   "id": "3a66c46a",
   "metadata": {},
   "outputs": [
    {
     "name": "stdout",
     "output_type": "stream",
     "text": [
      "\u001b[1mAcurracy:\u001b[0m 0.5008533333333334\n",
      "              precision    recall  f1-score   support\n",
      "\n",
      "         cat       0.50      1.00      0.67      9391\n",
      "         dog       0.00      0.00      0.00      9359\n",
      "\n",
      "    accuracy                           0.50     18750\n",
      "   macro avg       0.25      0.50      0.33     18750\n",
      "weighted avg       0.25      0.50      0.33     18750\n",
      "\n"
     ]
    }
   ],
   "source": [
    "pred = cross_val_predict(dum, x_train_processed, y_train)\n",
    "print('\\033[1m' + 'Acurracy:' + '\\033[0m' ,metrics.accuracy_score(y_train, pred))\n",
    "print(classification_report(y_train, pred))"
   ]
  },
  {
   "cell_type": "markdown",
   "id": "115d138f",
   "metadata": {},
   "source": [
    "## KNN"
   ]
  },
  {
   "cell_type": "code",
   "execution_count": 39,
   "id": "d005fa2e",
   "metadata": {},
   "outputs": [],
   "source": [
    "knn = KNeighborsClassifier(n_neighbors=21)"
   ]
  },
  {
   "cell_type": "code",
   "execution_count": 42,
   "id": "48030f50",
   "metadata": {},
   "outputs": [
    {
     "name": "stdout",
     "output_type": "stream",
     "text": [
      "\u001b[1mAcurracy:\u001b[0m 0.61472\n",
      "              precision    recall  f1-score   support\n",
      "\n",
      "         cat       0.64      0.54      0.58      9391\n",
      "         dog       0.60      0.69      0.64      9359\n",
      "\n",
      "    accuracy                           0.61     18750\n",
      "   macro avg       0.62      0.61      0.61     18750\n",
      "weighted avg       0.62      0.61      0.61     18750\n",
      "\n"
     ]
    }
   ],
   "source": [
    "pred = cross_val_predict(knn, x_train_processed, y_train)\n",
    "print('\\033[1m' + 'Acurracy:' + '\\033[0m' ,metrics.accuracy_score(y_train, pred))\n",
    "print(classification_report(y_train, pred))"
   ]
  },
  {
   "cell_type": "markdown",
   "id": "5dbd6d84",
   "metadata": {},
   "source": [
    "## Ridge Classifier"
   ]
  },
  {
   "cell_type": "code",
   "execution_count": 43,
   "id": "72740496",
   "metadata": {},
   "outputs": [],
   "source": [
    "ridge = linear_model.RidgeClassifierCV()"
   ]
  },
  {
   "cell_type": "code",
   "execution_count": 44,
   "id": "64b2b8c3",
   "metadata": {},
   "outputs": [
    {
     "name": "stdout",
     "output_type": "stream",
     "text": [
      "\u001b[1mAcurracy:\u001b[0m 0.5850133333333334\n",
      "              precision    recall  f1-score   support\n",
      "\n",
      "         cat       0.58      0.60      0.59      9391\n",
      "         dog       0.59      0.57      0.58      9359\n",
      "\n",
      "    accuracy                           0.59     18750\n",
      "   macro avg       0.59      0.58      0.58     18750\n",
      "weighted avg       0.59      0.59      0.58     18750\n",
      "\n"
     ]
    }
   ],
   "source": [
    "pred = cross_val_predict(ridge, x_train_processed, y_train)\n",
    "print('\\033[1m' + 'Acurracy:' + '\\033[0m' ,metrics.accuracy_score(y_train, pred))\n",
    "print(classification_report(y_train, pred))"
   ]
  },
  {
   "cell_type": "markdown",
   "id": "baa59c6a",
   "metadata": {},
   "source": [
    "## Logistic Regression"
   ]
  },
  {
   "cell_type": "code",
   "execution_count": 45,
   "id": "689373a4",
   "metadata": {},
   "outputs": [],
   "source": [
    "log = linear_model.LogisticRegression() "
   ]
  },
  {
   "cell_type": "code",
   "execution_count": 46,
   "id": "630402eb",
   "metadata": {},
   "outputs": [
    {
     "name": "stdout",
     "output_type": "stream",
     "text": [
      "\u001b[1mAcurracy:\u001b[0m 0.58448\n",
      "              precision    recall  f1-score   support\n",
      "\n",
      "         cat       0.58      0.60      0.59      9391\n",
      "         dog       0.59      0.57      0.58      9359\n",
      "\n",
      "    accuracy                           0.58     18750\n",
      "   macro avg       0.58      0.58      0.58     18750\n",
      "weighted avg       0.58      0.58      0.58     18750\n",
      "\n"
     ]
    }
   ],
   "source": [
    "pred = cross_val_predict(log, x_train_processed, y_train)\n",
    "print('\\033[1m' + 'Acurracy:' + '\\033[0m' ,metrics.accuracy_score(y_train, pred))\n",
    "print(classification_report(y_train, pred))"
   ]
  },
  {
   "cell_type": "markdown",
   "id": "e3d8c12a",
   "metadata": {},
   "source": [
    "## Naive Bayes"
   ]
  },
  {
   "cell_type": "code",
   "execution_count": 43,
   "id": "77115d68",
   "metadata": {},
   "outputs": [],
   "source": [
    "bayes = GaussianNB()"
   ]
  },
  {
   "cell_type": "code",
   "execution_count": 72,
   "id": "67e88802",
   "metadata": {},
   "outputs": [
    {
     "name": "stdout",
     "output_type": "stream",
     "text": [
      "\u001b[1mAcurracy:\u001b[0m 0.6154666666666667\n",
      "              precision    recall  f1-score   support\n",
      "\n",
      "         cat       0.60      0.68      0.64      9391\n",
      "         dog       0.63      0.55      0.59      9359\n",
      "\n",
      "    accuracy                           0.62     18750\n",
      "   macro avg       0.62      0.62      0.61     18750\n",
      "weighted avg       0.62      0.62      0.61     18750\n",
      "\n"
     ]
    }
   ],
   "source": [
    "pred = cross_val_predict(bayes, x_train_processed, y_train)\n",
    "print('\\033[1m' + 'Acurracy:' + '\\033[0m' ,metrics.accuracy_score(y_train, pred))\n",
    "print(classification_report(y_train, pred))"
   ]
  },
  {
   "cell_type": "markdown",
   "id": "914cc6e3",
   "metadata": {},
   "source": [
    "## SVC"
   ]
  },
  {
   "cell_type": "code",
   "execution_count": 36,
   "id": "ff205f1e",
   "metadata": {},
   "outputs": [],
   "source": [
    "svc = SVC(probability=True, cache_size=5000,)"
   ]
  },
  {
   "cell_type": "code",
   "execution_count": 135,
   "id": "dd92619a",
   "metadata": {},
   "outputs": [
    {
     "name": "stdout",
     "output_type": "stream",
     "text": [
      "\u001b[1mAcurracy:\u001b[0m 0.66384\n",
      "              precision    recall  f1-score   support\n",
      "\n",
      "         cat       0.66      0.67      0.67      9391\n",
      "         dog       0.66      0.66      0.66      9359\n",
      "\n",
      "    accuracy                           0.66     18750\n",
      "   macro avg       0.66      0.66      0.66     18750\n",
      "weighted avg       0.66      0.66      0.66     18750\n",
      "\n"
     ]
    }
   ],
   "source": [
    "pred = cross_val_predict(svc, x_train_processed, y_train)\n",
    "print('\\033[1m' + 'Acurracy:' + '\\033[0m' ,metrics.accuracy_score(y_train, pred))\n",
    "print(classification_report(y_train, pred))"
   ]
  },
  {
   "cell_type": "markdown",
   "id": "48604ede",
   "metadata": {},
   "source": [
    "## Decision Tree Classifier"
   ]
  },
  {
   "cell_type": "code",
   "execution_count": 132,
   "id": "dd31498a",
   "metadata": {},
   "outputs": [],
   "source": [
    "tree = DecisionTreeClassifier()"
   ]
  },
  {
   "cell_type": "code",
   "execution_count": 133,
   "id": "6657707d",
   "metadata": {
    "scrolled": true
   },
   "outputs": [
    {
     "name": "stdout",
     "output_type": "stream",
     "text": [
      "\u001b[1mAcurracy:\u001b[0m 0.5420266666666667\n",
      "              precision    recall  f1-score   support\n",
      "\n",
      "         cat       0.54      0.54      0.54      9391\n",
      "         dog       0.54      0.54      0.54      9359\n",
      "\n",
      "    accuracy                           0.54     18750\n",
      "   macro avg       0.54      0.54      0.54     18750\n",
      "weighted avg       0.54      0.54      0.54     18750\n",
      "\n"
     ]
    }
   ],
   "source": [
    "pred = cross_val_predict(tree, x_train_processed, y_train)\n",
    "print('\\033[1m' + 'Acurracy:' + '\\033[0m' ,metrics.accuracy_score(y_train, pred))\n",
    "print(classification_report(y_train, pred))"
   ]
  },
  {
   "cell_type": "markdown",
   "id": "56323473",
   "metadata": {},
   "source": [
    "# Ensemble models"
   ]
  },
  {
   "cell_type": "code",
   "execution_count": 124,
   "id": "d929d98b",
   "metadata": {},
   "outputs": [],
   "source": [
    "n_y_train = y_train.apply(lambda x: 0 if x == 'cat' else 1) # XGBoost is spoiled and can only predict in ones and zeros"
   ]
  },
  {
   "cell_type": "markdown",
   "id": "ee085044",
   "metadata": {},
   "source": [
    "## XG Boost"
   ]
  },
  {
   "cell_type": "code",
   "execution_count": 126,
   "id": "da29f7d2",
   "metadata": {},
   "outputs": [],
   "source": [
    "xgb = XGBClassifier()"
   ]
  },
  {
   "cell_type": "code",
   "execution_count": 127,
   "id": "b7d00e4d",
   "metadata": {},
   "outputs": [
    {
     "name": "stdout",
     "output_type": "stream",
     "text": [
      "\u001b[1mAcurracy:\u001b[0m 0.6313066666666667\n",
      "              precision    recall  f1-score   support\n",
      "\n",
      "           0       0.63      0.63      0.63      9391\n",
      "           1       0.63      0.64      0.63      9359\n",
      "\n",
      "    accuracy                           0.63     18750\n",
      "   macro avg       0.63      0.63      0.63     18750\n",
      "weighted avg       0.63      0.63      0.63     18750\n",
      "\n"
     ]
    }
   ],
   "source": [
    "pred = cross_val_predict(xgb, x_train_processed, n_y_train)\n",
    "print('\\033[1m' + 'Acurracy:' + '\\033[0m' ,metrics.accuracy_score(n_y_train, pred))\n",
    "print(classification_report(n_y_train, pred))"
   ]
  },
  {
   "cell_type": "markdown",
   "id": "2cfdb2fd",
   "metadata": {},
   "source": [
    "## Random Forest"
   ]
  },
  {
   "cell_type": "code",
   "execution_count": 86,
   "id": "b2250e3d",
   "metadata": {},
   "outputs": [],
   "source": [
    "rft = RandomForestClassifier()"
   ]
  },
  {
   "cell_type": "code",
   "execution_count": 87,
   "id": "2a1decd6",
   "metadata": {},
   "outputs": [
    {
     "name": "stdout",
     "output_type": "stream",
     "text": [
      "\u001b[1mAcurracy:\u001b[0m 0.6172266666666667\n",
      "              precision    recall  f1-score   support\n",
      "\n",
      "         cat       0.61      0.66      0.63      9391\n",
      "         dog       0.63      0.58      0.60      9359\n",
      "\n",
      "    accuracy                           0.62     18750\n",
      "   macro avg       0.62      0.62      0.62     18750\n",
      "weighted avg       0.62      0.62      0.62     18750\n",
      "\n"
     ]
    }
   ],
   "source": [
    "pred = cross_val_predict(rft, x_train_processed, y_train)\n",
    "print('\\033[1m' + 'Acurracy:' + '\\033[0m' ,metrics.accuracy_score(y_train, pred))\n",
    "print(classification_report(y_train, pred))"
   ]
  },
  {
   "cell_type": "markdown",
   "id": "34dc02e9",
   "metadata": {},
   "source": [
    "## Ada Boost"
   ]
  },
  {
   "cell_type": "code",
   "execution_count": 88,
   "id": "e463149f",
   "metadata": {},
   "outputs": [],
   "source": [
    "ada = AdaBoostClassifier()"
   ]
  },
  {
   "cell_type": "code",
   "execution_count": 89,
   "id": "e6b6676c",
   "metadata": {},
   "outputs": [
    {
     "name": "stdout",
     "output_type": "stream",
     "text": [
      "\u001b[1mAcurracy:\u001b[0m 0.6057066666666666\n",
      "              precision    recall  f1-score   support\n",
      "\n",
      "         cat       0.61      0.60      0.60      9391\n",
      "         dog       0.60      0.61      0.61      9359\n",
      "\n",
      "    accuracy                           0.61     18750\n",
      "   macro avg       0.61      0.61      0.61     18750\n",
      "weighted avg       0.61      0.61      0.61     18750\n",
      "\n"
     ]
    }
   ],
   "source": [
    "pred = cross_val_predict(ada, x_train_processed, y_train)\n",
    "print('\\033[1m' + 'Acurracy:' + '\\033[0m' ,metrics.accuracy_score(y_train, pred))\n",
    "print(classification_report(y_train, pred))"
   ]
  },
  {
   "cell_type": "markdown",
   "id": "7abee676",
   "metadata": {},
   "source": [
    "## Stacking Classifier\n",
    "### Using Logistic Regression, Naive Bayes, KNN and SVC as a final estimator"
   ]
  },
  {
   "cell_type": "code",
   "execution_count": 46,
   "id": "e1c1c41c",
   "metadata": {},
   "outputs": [],
   "source": [
    "stack = StackingClassifier(estimators = [('Logistic Regression', log), ('Naive Bayes', bayes), ('knn', knn)],\n",
    "                           final_estimator = svc, n_jobs = -1) "
   ]
  },
  {
   "cell_type": "code",
   "execution_count": 47,
   "id": "f2805389",
   "metadata": {},
   "outputs": [
    {
     "name": "stdout",
     "output_type": "stream",
     "text": [
      "\u001b[1mAcurracy:\u001b[0m 0.64784\n",
      "              precision    recall  f1-score   support\n",
      "\n",
      "         cat       0.65      0.65      0.65      9391\n",
      "         dog       0.65      0.65      0.65      9359\n",
      "\n",
      "    accuracy                           0.65     18750\n",
      "   macro avg       0.65      0.65      0.65     18750\n",
      "weighted avg       0.65      0.65      0.65     18750\n",
      "\n"
     ]
    }
   ],
   "source": [
    "pred = cross_val_predict(stack, x_train_processed, y_train)\n",
    "print('\\033[1m' + 'Acurracy:' + '\\033[0m' ,metrics.accuracy_score(y_train, pred))\n",
    "print(classification_report(y_train, pred))"
   ]
  },
  {
   "cell_type": "markdown",
   "id": "c29a038a",
   "metadata": {},
   "source": [
    "## VotingClassifier\n",
    "### Using hard voting on SVC, KNN, and Logistic Regression"
   ]
  },
  {
   "cell_type": "code",
   "execution_count": 61,
   "id": "a5641de9",
   "metadata": {},
   "outputs": [],
   "source": [
    "vot = VotingClassifier(estimators = [('svc', svc ), ('knn', knn), ('log', log)], voting='hard')"
   ]
  },
  {
   "cell_type": "code",
   "execution_count": 62,
   "id": "0eaac167",
   "metadata": {},
   "outputs": [
    {
     "name": "stdout",
     "output_type": "stream",
     "text": [
      "\u001b[1mAcurracy:\u001b[0m 0.64768\n",
      "              precision    recall  f1-score   support\n",
      "\n",
      "         cat       0.65      0.63      0.64      9391\n",
      "         dog       0.64      0.67      0.65      9359\n",
      "\n",
      "    accuracy                           0.65     18750\n",
      "   macro avg       0.65      0.65      0.65     18750\n",
      "weighted avg       0.65      0.65      0.65     18750\n",
      "\n"
     ]
    }
   ],
   "source": [
    "pred = cross_val_predict(vot, x_train_processed, y_train)\n",
    "print('\\033[1m' + 'Acurracy:' + '\\033[0m' ,metrics.accuracy_score(y_train, pred))\n",
    "print(classification_report(y_train, pred))"
   ]
  },
  {
   "cell_type": "markdown",
   "id": "8189cad4",
   "metadata": {},
   "source": [
    "## VotingClassifier\n",
    "### Using soft voting on SVC, KNN, and Logistic Regression"
   ]
  },
  {
   "cell_type": "code",
   "execution_count": 50,
   "id": "1e646295",
   "metadata": {},
   "outputs": [],
   "source": [
    "vot = VotingClassifier(estimators = [('svc', svc ), ('knn', knn), ('log', log)], voting='soft')"
   ]
  },
  {
   "cell_type": "code",
   "execution_count": 122,
   "id": "15f7932c",
   "metadata": {},
   "outputs": [
    {
     "name": "stdout",
     "output_type": "stream",
     "text": [
      "\u001b[1mAcurracy:\u001b[0m 0.65392\n",
      "              precision    recall  f1-score   support\n",
      "\n",
      "         cat       0.66      0.63      0.65      9391\n",
      "         dog       0.65      0.68      0.66      9359\n",
      "\n",
      "    accuracy                           0.65     18750\n",
      "   macro avg       0.65      0.65      0.65     18750\n",
      "weighted avg       0.65      0.65      0.65     18750\n",
      "\n"
     ]
    }
   ],
   "source": [
    "pred = cross_val_predict(vot, x_train_processed, y_train)\n",
    "print('\\033[1m' + 'Acurracy:' + '\\033[0m' ,metrics.accuracy_score(y_train, pred))\n",
    "print(classification_report(y_train, pred))"
   ]
  },
  {
   "cell_type": "markdown",
   "id": "b6658d93",
   "metadata": {},
   "source": [
    "# Adding clustering to the mix"
   ]
  },
  {
   "cell_type": "code",
   "execution_count": 82,
   "id": "90d2f76a",
   "metadata": {},
   "outputs": [],
   "source": [
    "#preprocessor = Pipeline(([('scaler',StandardScaler()), ('pca',PCA(n_components=0.85))]))\n",
    "pipe = Pipeline(([('Kmeans', KMeans(n_clusters = 30)), ('Logistic Regression', vot)]))"
   ]
  },
  {
   "cell_type": "code",
   "execution_count": 83,
   "id": "52bf819d",
   "metadata": {},
   "outputs": [
    {
     "name": "stdout",
     "output_type": "stream",
     "text": [
      "\u001b[1mAcurracy:\u001b[0m 0.5987733333333334\n",
      "              precision    recall  f1-score   support\n",
      "\n",
      "         cat       0.61      0.56      0.58      9391\n",
      "         dog       0.59      0.64      0.61      9359\n",
      "\n",
      "    accuracy                           0.60     18750\n",
      "   macro avg       0.60      0.60      0.60     18750\n",
      "weighted avg       0.60      0.60      0.60     18750\n",
      "\n"
     ]
    }
   ],
   "source": [
    "pred = cross_val_predict(pipe, x_train_processed, y_train)\n",
    "print('\\033[1m' + 'Acurracy:' + '\\033[0m' ,metrics.accuracy_score(y_train, pred))\n",
    "print(classification_report(y_train, pred))"
   ]
  },
  {
   "cell_type": "markdown",
   "id": "f6631fab",
   "metadata": {},
   "source": [
    "#### Like we saw in the 3-D graph above, the data doens't cluster to distinct groups of cats and dog and I believe that this is the   reason why clustering is not suitable for this dataset in perticular"
   ]
  },
  {
   "cell_type": "markdown",
   "id": "f03451cf",
   "metadata": {},
   "source": [
    "## AND THE WINNER IS: \n",
    "\n",
    "## SVC!  with the accuracy of 66%"
   ]
  },
  {
   "cell_type": "markdown",
   "id": "375960f7",
   "metadata": {},
   "source": [
    "# Our next step is Hyper-Parameter tuning"
   ]
  },
  {
   "cell_type": "markdown",
   "id": "927db6cb",
   "metadata": {},
   "source": [
    "### First, we will the aproximate range of the optimal parameter values\n",
    "this should help with the run time in the future"
   ]
  },
  {
   "cell_type": "code",
   "execution_count": 72,
   "id": "df7c8c7a",
   "metadata": {},
   "outputs": [],
   "source": [
    "param_grid = {'C': [0.1,1, 10, 100], 'gamma': [1,0.1,0.01,0.001],'kernel': ['rbf', 'poly', 'sigmoid']}"
   ]
  },
  {
   "cell_type": "code",
   "execution_count": 73,
   "id": "1335e832",
   "metadata": {},
   "outputs": [],
   "source": [
    "rand_ser = RandomizedSearchCV(svc,\n",
    "                              param_distributions = param_grid,\n",
    "                              n_iter = 100,\n",
    "                              n_jobs = -1,\n",
    "                              cv = 5, scoring = 'accuracy')"
   ]
  },
  {
   "cell_type": "code",
   "execution_count": 74,
   "id": "fcced9a2",
   "metadata": {},
   "outputs": [
    {
     "data": {
      "text/plain": [
       "RandomizedSearchCV(cv=5, estimator=SVC(cache_size=5000, probability=True),\n",
       "                   n_iter=100, n_jobs=-1,\n",
       "                   param_distributions={'C': [0.1, 1, 10, 100],\n",
       "                                        'gamma': [1, 0.1, 0.01, 0.001],\n",
       "                                        'kernel': ['rbf', 'poly', 'sigmoid']},\n",
       "                   scoring='accuracy')"
      ]
     },
     "execution_count": 74,
     "metadata": {},
     "output_type": "execute_result"
    }
   ],
   "source": [
    "rand_ser.fit(x_train_processed, y_train)"
   ]
  },
  {
   "cell_type": "code",
   "execution_count": 75,
   "id": "a20cc800",
   "metadata": {},
   "outputs": [
    {
     "name": "stdout",
     "output_type": "stream",
     "text": [
      "{'kernel': 'rbf', 'gamma': 0.001, 'C': 1}\n"
     ]
    }
   ],
   "source": [
    "best_ = rand_ser.best_params_\n",
    "print(best_)"
   ]
  },
  {
   "cell_type": "code",
   "execution_count": 76,
   "id": "896ede9b",
   "metadata": {},
   "outputs": [
    {
     "data": {
      "text/plain": [
       "0.6645866666666667"
      ]
     },
     "execution_count": 76,
     "metadata": {},
     "output_type": "execute_result"
    }
   ],
   "source": [
    "rand_ser.best_score_"
   ]
  },
  {
   "cell_type": "markdown",
   "id": "2f1716c7",
   "metadata": {},
   "source": [
    "Now we will find the exact parameters that are best for us"
   ]
  },
  {
   "cell_type": "code",
   "execution_count": 77,
   "id": "8f814e15",
   "metadata": {},
   "outputs": [],
   "source": [
    "param_grid = {'C': [0.5,1, 5], 'gamma': [0.001,0.0001],'kernel': ['rbf']}"
   ]
  },
  {
   "cell_type": "code",
   "execution_count": 78,
   "id": "c884c255",
   "metadata": {},
   "outputs": [],
   "source": [
    "rand_ser = RandomizedSearchCV(svc,\n",
    "                              param_distributions = param_grid,\n",
    "                              n_iter = 100,\n",
    "                              n_jobs = -1,\n",
    "                              cv = 5, scoring = 'accuracy')"
   ]
  },
  {
   "cell_type": "code",
   "execution_count": 79,
   "id": "85753127",
   "metadata": {},
   "outputs": [
    {
     "data": {
      "text/plain": [
       "RandomizedSearchCV(cv=5, estimator=SVC(cache_size=5000, probability=True),\n",
       "                   n_iter=100, n_jobs=-1,\n",
       "                   param_distributions={'C': [0.5, 1, 5],\n",
       "                                        'gamma': [0.001, 0.0001],\n",
       "                                        'kernel': ['rbf']},\n",
       "                   scoring='accuracy')"
      ]
     },
     "execution_count": 79,
     "metadata": {},
     "output_type": "execute_result"
    }
   ],
   "source": [
    "rand_ser.fit(x_train_processed, y_train)"
   ]
  },
  {
   "cell_type": "code",
   "execution_count": 80,
   "id": "80cc2b54",
   "metadata": {},
   "outputs": [
    {
     "name": "stdout",
     "output_type": "stream",
     "text": [
      "{'kernel': 'rbf', 'gamma': 0.001, 'C': 1}\n"
     ]
    }
   ],
   "source": [
    "best_ = rand_ser.best_params_\n",
    "print(best_)"
   ]
  },
  {
   "cell_type": "code",
   "execution_count": 81,
   "id": "b5cadd9b",
   "metadata": {},
   "outputs": [
    {
     "data": {
      "text/plain": [
       "0.6645866666666667"
      ]
     },
     "execution_count": 81,
     "metadata": {},
     "output_type": "execute_result"
    }
   ],
   "source": [
    "rand_ser.best_score_"
   ]
  },
  {
   "cell_type": "markdown",
   "id": "1ce9a0a1",
   "metadata": {},
   "source": [
    "## We got it! "
   ]
  },
  {
   "cell_type": "markdown",
   "id": "9eb2fd9c",
   "metadata": {},
   "source": [
    "# Testing\n",
    "\n",
    "### First we preprocess the test set the same way we did the train set"
   ]
  },
  {
   "cell_type": "markdown",
   "id": "a5f4143d",
   "metadata": {},
   "source": [
    "Define a new SVC instant using the parameters we found"
   ]
  },
  {
   "cell_type": "code",
   "execution_count": 48,
   "id": "c774987b",
   "metadata": {},
   "outputs": [],
   "source": [
    "x_test_processed = preprocessor.transform(x_test)"
   ]
  },
  {
   "cell_type": "code",
   "execution_count": 49,
   "id": "8da64906",
   "metadata": {},
   "outputs": [],
   "source": [
    "svc = SVC(probability=True, cache_size=5000, kernel = 'rbf', gamma = 0.001, C = 1)"
   ]
  },
  {
   "cell_type": "code",
   "execution_count": 50,
   "id": "bd1a54d7",
   "metadata": {},
   "outputs": [
    {
     "data": {
      "text/plain": [
       "SVC(C=1, cache_size=5000, gamma=0.001, probability=True)"
      ]
     },
     "execution_count": 50,
     "metadata": {},
     "output_type": "execute_result"
    }
   ],
   "source": [
    "svc.fit(x_train_processed, y_train)"
   ]
  },
  {
   "cell_type": "code",
   "execution_count": 51,
   "id": "ab757667",
   "metadata": {},
   "outputs": [],
   "source": [
    "fin_pred = svc.predict(x_test_processed)"
   ]
  },
  {
   "cell_type": "code",
   "execution_count": 52,
   "id": "8fccc017",
   "metadata": {},
   "outputs": [
    {
     "name": "stdout",
     "output_type": "stream",
     "text": [
      "\u001b[1mAcurracy:\u001b[0m 0.6736\n",
      "              precision    recall  f1-score   support\n",
      "\n",
      "         cat       0.66      0.71      0.68      3109\n",
      "         dog       0.69      0.63      0.66      3141\n",
      "\n",
      "    accuracy                           0.67      6250\n",
      "   macro avg       0.67      0.67      0.67      6250\n",
      "weighted avg       0.67      0.67      0.67      6250\n",
      "\n"
     ]
    }
   ],
   "source": [
    "print('\\033[1m' + 'Acurracy:' + '\\033[0m' ,metrics.accuracy_score(y_test, fin_pred))\n",
    "print(classification_report(y_test, fin_pred))"
   ]
  },
  {
   "cell_type": "markdown",
   "id": "f548559e",
   "metadata": {},
   "source": [
    "# In Conclusion\n",
    "We found the best model to be SVC \n",
    "After Hyper Parameter tuning using RandomizedSearchCV, we got the test accuracy of:\n",
    "### 67.36%"
   ]
  }
 ],
 "metadata": {
  "kernelspec": {
   "display_name": "Python 3 (ipykernel)",
   "language": "python",
   "name": "python3"
  },
  "language_info": {
   "codemirror_mode": {
    "name": "ipython",
    "version": 3
   },
   "file_extension": ".py",
   "mimetype": "text/x-python",
   "name": "python",
   "nbconvert_exporter": "python",
   "pygments_lexer": "ipython3",
   "version": "3.9.7"
  }
 },
 "nbformat": 4,
 "nbformat_minor": 5
}
