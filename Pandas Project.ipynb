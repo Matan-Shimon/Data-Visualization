{
 "cells": [
  {
   "cell_type": "code",
   "execution_count": 1,
   "id": "fd5db270",
   "metadata": {},
   "outputs": [],
   "source": [
    "import pandas as pd\n",
    "import numpy as np"
   ]
  },
  {
   "cell_type": "code",
   "execution_count": 75,
   "id": "c2014658",
   "metadata": {},
   "outputs": [
    {
     "data": {
      "text/html": [
       "<div>\n",
       "<style scoped>\n",
       "    .dataframe tbody tr th:only-of-type {\n",
       "        vertical-align: middle;\n",
       "    }\n",
       "\n",
       "    .dataframe tbody tr th {\n",
       "        vertical-align: top;\n",
       "    }\n",
       "\n",
       "    .dataframe thead th {\n",
       "        text-align: right;\n",
       "    }\n",
       "</style>\n",
       "<table border=\"1\" class=\"dataframe\">\n",
       "  <thead>\n",
       "    <tr style=\"text-align: right;\">\n",
       "      <th></th>\n",
       "      <th>X</th>\n",
       "      <th>Y</th>\n",
       "      <th>Pressure</th>\n",
       "      <th>TiltX</th>\n",
       "      <th>TiltY</th>\n",
       "      <th>Time</th>\n",
       "    </tr>\n",
       "  </thead>\n",
       "  <tbody>\n",
       "    <tr>\n",
       "      <th>0</th>\n",
       "      <td>774.499595796281</td>\n",
       "      <td>651.059938</td>\n",
       "      <td>0.535882</td>\n",
       "      <td>3763.0</td>\n",
       "      <td>-871.0</td>\n",
       "      <td>00:01.7456720</td>\n",
       "    </tr>\n",
       "    <tr>\n",
       "      <th>1</th>\n",
       "      <td>771.234553643608</td>\n",
       "      <td>650.796628</td>\n",
       "      <td>0.553460</td>\n",
       "      <td>3763.0</td>\n",
       "      <td>-871.0</td>\n",
       "      <td>00:01.7616647</td>\n",
       "    </tr>\n",
       "    <tr>\n",
       "      <th>2</th>\n",
       "      <td>769.075412865227</td>\n",
       "      <td>649.585402</td>\n",
       "      <td>0.561273</td>\n",
       "      <td>3763.0</td>\n",
       "      <td>-871.0</td>\n",
       "      <td>00:01.7774846</td>\n",
       "    </tr>\n",
       "    <tr>\n",
       "      <th>3</th>\n",
       "      <td>767.284905878277</td>\n",
       "      <td>647.004966</td>\n",
       "      <td>0.579583</td>\n",
       "      <td>3763.0</td>\n",
       "      <td>-871.0</td>\n",
       "      <td>00:01.7774846</td>\n",
       "    </tr>\n",
       "    <tr>\n",
       "      <th>4</th>\n",
       "      <td>766.863610116642</td>\n",
       "      <td>646.109712</td>\n",
       "      <td>0.589349</td>\n",
       "      <td>3763.0</td>\n",
       "      <td>-871.0</td>\n",
       "      <td>00:01.7930025</td>\n",
       "    </tr>\n",
       "    <tr>\n",
       "      <th>...</th>\n",
       "      <td>...</td>\n",
       "      <td>...</td>\n",
       "      <td>...</td>\n",
       "      <td>...</td>\n",
       "      <td>...</td>\n",
       "      <td>...</td>\n",
       "    </tr>\n",
       "    <tr>\n",
       "      <th>262</th>\n",
       "      <td>869.343804134427</td>\n",
       "      <td>662.645571</td>\n",
       "      <td>0.842527</td>\n",
       "      <td>2929.0</td>\n",
       "      <td>-701.0</td>\n",
       "      <td>00:05.6838811</td>\n",
       "    </tr>\n",
       "    <tr>\n",
       "      <th>263</th>\n",
       "      <td>869.238480194018</td>\n",
       "      <td>662.961543</td>\n",
       "      <td>0.836423</td>\n",
       "      <td>2929.0</td>\n",
       "      <td>-701.0</td>\n",
       "      <td>00:05.6994045</td>\n",
       "    </tr>\n",
       "    <tr>\n",
       "      <th>264</th>\n",
       "      <td>869.133156253609</td>\n",
       "      <td>663.856796</td>\n",
       "      <td>0.741451</td>\n",
       "      <td>2879.0</td>\n",
       "      <td>-687.0</td>\n",
       "      <td>00:05.6994045</td>\n",
       "    </tr>\n",
       "    <tr>\n",
       "      <th>265</th>\n",
       "      <td>Time Elapsed till drawing started: 00:01.7299936</td>\n",
       "      <td>NaN</td>\n",
       "      <td>NaN</td>\n",
       "      <td>NaN</td>\n",
       "      <td>NaN</td>\n",
       "      <td>NaN</td>\n",
       "    </tr>\n",
       "    <tr>\n",
       "      <th>266</th>\n",
       "      <td>Time Elapsed till drawing submit: 00:06.3461152</td>\n",
       "      <td>NaN</td>\n",
       "      <td>NaN</td>\n",
       "      <td>NaN</td>\n",
       "      <td>NaN</td>\n",
       "      <td>NaN</td>\n",
       "    </tr>\n",
       "  </tbody>\n",
       "</table>\n",
       "<p>267 rows × 6 columns</p>\n",
       "</div>"
      ],
      "text/plain": [
       "                                                    X           Y   Pressure  \\\n",
       "0                                    774.499595796281  651.059938   0.535882   \n",
       "1                                    771.234553643608  650.796628   0.553460   \n",
       "2                                    769.075412865227  649.585402   0.561273   \n",
       "3                                    767.284905878277  647.004966   0.579583   \n",
       "4                                    766.863610116642  646.109712   0.589349   \n",
       "..                                                ...         ...        ...   \n",
       "262                                  869.343804134427  662.645571   0.842527   \n",
       "263                                  869.238480194018  662.961543   0.836423   \n",
       "264                                  869.133156253609  663.856796   0.741451   \n",
       "265  Time Elapsed till drawing started: 00:01.7299936         NaN        NaN   \n",
       "266   Time Elapsed till drawing submit: 00:06.3461152         NaN        NaN   \n",
       "\n",
       "      TiltX   TiltY           Time  \n",
       "0    3763.0  -871.0  00:01.7456720  \n",
       "1    3763.0  -871.0  00:01.7616647  \n",
       "2    3763.0  -871.0  00:01.7774846  \n",
       "3    3763.0  -871.0  00:01.7774846  \n",
       "4    3763.0  -871.0  00:01.7930025  \n",
       "..      ...     ...            ...  \n",
       "262  2929.0  -701.0  00:05.6838811  \n",
       "263  2929.0  -701.0  00:05.6994045  \n",
       "264  2879.0  -687.0  00:05.6994045  \n",
       "265     NaN     NaN            NaN  \n",
       "266     NaN     NaN            NaN  \n",
       "\n",
       "[267 rows x 6 columns]"
      ]
     },
     "execution_count": 75,
     "metadata": {},
     "output_type": "execute_result"
    }
   ],
   "source": [
    "kish = pd.read_csv(r'C:\\\\Users\\Gilad\\train\\7557\\SimpleTest\\5.csv')\n",
    "kish"
   ]
  },
  {
   "cell_type": "code",
   "execution_count": 76,
   "id": "4216a056",
   "metadata": {},
   "outputs": [],
   "source": [
    "kish.dropna(axis = 0, inplace = True)"
   ]
  },
  {
   "cell_type": "code",
   "execution_count": 77,
   "id": "8c0c68bb",
   "metadata": {
    "scrolled": true
   },
   "outputs": [
    {
     "name": "stdout",
     "output_type": "stream",
     "text": [
      "<class 'pandas.core.frame.DataFrame'>\n",
      "Int64Index: 265 entries, 0 to 264\n",
      "Data columns (total 6 columns):\n",
      " #   Column     Non-Null Count  Dtype  \n",
      "---  ------     --------------  -----  \n",
      " 0   X          265 non-null    object \n",
      " 1    Y         265 non-null    float64\n",
      " 2    Pressure  265 non-null    float64\n",
      " 3    TiltX     265 non-null    float64\n",
      " 4    TiltY     265 non-null    float64\n",
      " 5    Time      265 non-null    object \n",
      "dtypes: float64(4), object(2)\n",
      "memory usage: 14.5+ KB\n"
     ]
    }
   ],
   "source": [
    "kish.info()"
   ]
  },
  {
   "cell_type": "code",
   "execution_count": 78,
   "id": "9a681976",
   "metadata": {},
   "outputs": [
    {
     "data": {
      "text/plain": [
       "Index(['X', ' Y', ' Pressure', ' TiltX', ' TiltY', ' Time'], dtype='object')"
      ]
     },
     "execution_count": 78,
     "metadata": {},
     "output_type": "execute_result"
    }
   ],
   "source": [
    "kish.columns"
   ]
  },
  {
   "cell_type": "code",
   "execution_count": 79,
   "id": "59264b6e",
   "metadata": {},
   "outputs": [],
   "source": [
    "kish.columns = kish.columns.str.replace(' ','')"
   ]
  },
  {
   "cell_type": "code",
   "execution_count": 80,
   "id": "6b540877",
   "metadata": {},
   "outputs": [
    {
     "data": {
      "text/plain": [
       "Index(['X', 'Y', 'Pressure', 'TiltX', 'TiltY', 'Time'], dtype='object')"
      ]
     },
     "execution_count": 80,
     "metadata": {},
     "output_type": "execute_result"
    }
   ],
   "source": [
    "kish.columns"
   ]
  },
  {
   "cell_type": "code",
   "execution_count": 81,
   "id": "163bc3a0",
   "metadata": {},
   "outputs": [],
   "source": [
    "kish[['min', 'sec']] = kish.Time.str.split(':',expand = True)"
   ]
  },
  {
   "cell_type": "code",
   "execution_count": 82,
   "id": "d0c7842f",
   "metadata": {},
   "outputs": [],
   "source": [
    "kish.drop('Time', axis = 1, inplace = True)"
   ]
  },
  {
   "cell_type": "code",
   "execution_count": 83,
   "id": "5f4a5db4",
   "metadata": {
    "scrolled": true
   },
   "outputs": [],
   "source": [
    "kish[['min', 'sec']] = kish[['min', 'sec']].astype('float64', )"
   ]
  },
  {
   "cell_type": "code",
   "execution_count": 84,
   "id": "7cc81410",
   "metadata": {},
   "outputs": [],
   "source": [
    "kish.sec = kish['sec'] + kish['min'] * 60.0"
   ]
  },
  {
   "cell_type": "code",
   "execution_count": 85,
   "id": "237de7e2",
   "metadata": {},
   "outputs": [],
   "source": [
    "kish.drop('min', axis = 1, inplace = True)"
   ]
  },
  {
   "cell_type": "code",
   "execution_count": 86,
   "id": "e6aeccb5",
   "metadata": {},
   "outputs": [],
   "source": [
    "kish.X = kish.X.astype('float64')"
   ]
  },
  {
   "cell_type": "code",
   "execution_count": 87,
   "id": "61b9010a",
   "metadata": {},
   "outputs": [
    {
     "name": "stdout",
     "output_type": "stream",
     "text": [
      "<class 'pandas.core.frame.DataFrame'>\n",
      "Int64Index: 265 entries, 0 to 264\n",
      "Data columns (total 6 columns):\n",
      " #   Column    Non-Null Count  Dtype  \n",
      "---  ------    --------------  -----  \n",
      " 0   X         265 non-null    float64\n",
      " 1   Y         265 non-null    float64\n",
      " 2   Pressure  265 non-null    float64\n",
      " 3   TiltX     265 non-null    float64\n",
      " 4   TiltY     265 non-null    float64\n",
      " 5   sec       265 non-null    float64\n",
      "dtypes: float64(6)\n",
      "memory usage: 14.5 KB\n"
     ]
    }
   ],
   "source": [
    "kish.info()"
   ]
  },
  {
   "cell_type": "code",
   "execution_count": 88,
   "id": "a465e773",
   "metadata": {},
   "outputs": [],
   "source": [
    "kish['s_X'] = kish.X.shift()"
   ]
  },
  {
   "cell_type": "code",
   "execution_count": 89,
   "id": "da658028",
   "metadata": {},
   "outputs": [],
   "source": [
    "kish['s_Y'] = kish.Y.shift()"
   ]
  },
  {
   "cell_type": "code",
   "execution_count": 90,
   "id": "c24c59b3",
   "metadata": {},
   "outputs": [],
   "source": [
    "kish['s_sec'] = kish.sec.shift()"
   ]
  },
  {
   "cell_type": "code",
   "execution_count": 91,
   "id": "77c10210",
   "metadata": {},
   "outputs": [],
   "source": [
    "kish.s_sec = abs(kish.sec - kish.s_sec)"
   ]
  },
  {
   "cell_type": "code",
   "execution_count": 92,
   "id": "b0e7e2db",
   "metadata": {},
   "outputs": [
    {
     "data": {
      "text/plain": [
       "<AxesSubplot:>"
      ]
     },
     "execution_count": 92,
     "metadata": {},
     "output_type": "execute_result"
    },
    {
     "data": {
      "image/png": "[encoded data removed]",
      "text/plain": [
       "<Figure size 432x288 with 1 Axes>"
      ]
     },
     "metadata": {
      "needs_background": "light"
     },
     "output_type": "display_data"
    }
   ],
   "source": [
    "kish.s_sec.plot()"
   ]
  },
  {
   "cell_type": "code",
   "execution_count": 93,
   "id": "72253ebd",
   "metadata": {},
   "outputs": [
    {
     "data": {
      "text/html": [
       "<div>\n",
       "<style scoped>\n",
       "    .dataframe tbody tr th:only-of-type {\n",
       "        vertical-align: middle;\n",
       "    }\n",
       "\n",
       "    .dataframe tbody tr th {\n",
       "        vertical-align: top;\n",
       "    }\n",
       "\n",
       "    .dataframe thead th {\n",
       "        text-align: right;\n",
       "    }\n",
       "</style>\n",
       "<table border=\"1\" class=\"dataframe\">\n",
       "  <thead>\n",
       "    <tr style=\"text-align: right;\">\n",
       "      <th></th>\n",
       "      <th>X</th>\n",
       "      <th>Y</th>\n",
       "      <th>Pressure</th>\n",
       "      <th>TiltX</th>\n",
       "      <th>TiltY</th>\n",
       "      <th>sec</th>\n",
       "      <th>s_X</th>\n",
       "      <th>s_Y</th>\n",
       "      <th>s_sec</th>\n",
       "    </tr>\n",
       "  </thead>\n",
       "  <tbody>\n",
       "    <tr>\n",
       "      <th>201</th>\n",
       "      <td>881.877353</td>\n",
       "      <td>637.736459</td>\n",
       "      <td>0.045884</td>\n",
       "      <td>2507.0</td>\n",
       "      <td>-329.0</td>\n",
       "      <td>4.568045</td>\n",
       "      <td>880.929438</td>\n",
       "      <td>633.786811</td>\n",
       "      <td>0.590610</td>\n",
       "    </tr>\n",
       "    <tr>\n",
       "      <th>235</th>\n",
       "      <td>879.244255</td>\n",
       "      <td>635.577318</td>\n",
       "      <td>0.331044</td>\n",
       "      <td>3401.0</td>\n",
       "      <td>-842.0</td>\n",
       "      <td>5.353670</td>\n",
       "      <td>908.471648</td>\n",
       "      <td>657.379374</td>\n",
       "      <td>0.404057</td>\n",
       "    </tr>\n",
       "  </tbody>\n",
       "</table>\n",
       "</div>"
      ],
      "text/plain": [
       "              X           Y  Pressure   TiltX  TiltY       sec         s_X  \\\n",
       "201  881.877353  637.736459  0.045884  2507.0 -329.0  4.568045  880.929438   \n",
       "235  879.244255  635.577318  0.331044  3401.0 -842.0  5.353670  908.471648   \n",
       "\n",
       "            s_Y     s_sec  \n",
       "201  633.786811  0.590610  \n",
       "235  657.379374  0.404057  "
      ]
     },
     "execution_count": 93,
     "metadata": {},
     "output_type": "execute_result"
    }
   ],
   "source": [
    "lines = kish[kish['s_sec'] > 0.1]\n",
    "lines"
   ]
  },
  {
   "cell_type": "code",
   "execution_count": 94,
   "id": "8ff1ce5f",
   "metadata": {},
   "outputs": [
    {
     "name": "stdout",
     "output_type": "stream",
     "text": [
      "So, the pen was lifted 2 times\n"
     ]
    }
   ],
   "source": [
    "print('So, the pen was lifted',len(kish[kish['s_sec'] > 0.1]),'times' )"
   ]
  },
  {
   "cell_type": "code",
   "execution_count": 95,
   "id": "ddf23375",
   "metadata": {},
   "outputs": [],
   "source": [
    "kish.fillna(value = 0, inplace=True)"
   ]
  },
  {
   "cell_type": "code",
   "execution_count": 96,
   "id": "e6afeec3",
   "metadata": {},
   "outputs": [],
   "source": [
    "kish['m'] = (kish['Y'] - kish['s_Y']) / (kish['X'] - kish['s_X'])"
   ]
  },
  {
   "cell_type": "code",
   "execution_count": 97,
   "id": "b2cd901f",
   "metadata": {},
   "outputs": [
    {
     "data": {
      "text/html": [
       "<div>\n",
       "<style scoped>\n",
       "    .dataframe tbody tr th:only-of-type {\n",
       "        vertical-align: middle;\n",
       "    }\n",
       "\n",
       "    .dataframe tbody tr th {\n",
       "        vertical-align: top;\n",
       "    }\n",
       "\n",
       "    .dataframe thead th {\n",
       "        text-align: right;\n",
       "    }\n",
       "</style>\n",
       "<table border=\"1\" class=\"dataframe\">\n",
       "  <thead>\n",
       "    <tr style=\"text-align: right;\">\n",
       "      <th></th>\n",
       "      <th>X</th>\n",
       "      <th>Y</th>\n",
       "      <th>Pressure</th>\n",
       "      <th>TiltX</th>\n",
       "      <th>TiltY</th>\n",
       "      <th>sec</th>\n",
       "      <th>s_X</th>\n",
       "      <th>s_Y</th>\n",
       "      <th>s_sec</th>\n",
       "      <th>m</th>\n",
       "    </tr>\n",
       "  </thead>\n",
       "  <tbody>\n",
       "    <tr>\n",
       "      <th>0</th>\n",
       "      <td>774.499596</td>\n",
       "      <td>651.059938</td>\n",
       "      <td>0.535882</td>\n",
       "      <td>3763.0</td>\n",
       "      <td>-871.0</td>\n",
       "      <td>1.745672</td>\n",
       "      <td>0.000000</td>\n",
       "      <td>0.000000</td>\n",
       "      <td>0.000000</td>\n",
       "      <td>0.840620</td>\n",
       "    </tr>\n",
       "    <tr>\n",
       "      <th>1</th>\n",
       "      <td>771.234554</td>\n",
       "      <td>650.796628</td>\n",
       "      <td>0.553460</td>\n",
       "      <td>3763.0</td>\n",
       "      <td>-871.0</td>\n",
       "      <td>1.761665</td>\n",
       "      <td>774.499596</td>\n",
       "      <td>651.059938</td>\n",
       "      <td>0.015993</td>\n",
       "      <td>0.080645</td>\n",
       "    </tr>\n",
       "    <tr>\n",
       "      <th>2</th>\n",
       "      <td>769.075413</td>\n",
       "      <td>649.585402</td>\n",
       "      <td>0.561273</td>\n",
       "      <td>3763.0</td>\n",
       "      <td>-871.0</td>\n",
       "      <td>1.777485</td>\n",
       "      <td>771.234554</td>\n",
       "      <td>650.796628</td>\n",
       "      <td>0.015820</td>\n",
       "      <td>0.560976</td>\n",
       "    </tr>\n",
       "    <tr>\n",
       "      <th>3</th>\n",
       "      <td>767.284906</td>\n",
       "      <td>647.004966</td>\n",
       "      <td>0.579583</td>\n",
       "      <td>3763.0</td>\n",
       "      <td>-871.0</td>\n",
       "      <td>1.777485</td>\n",
       "      <td>769.075413</td>\n",
       "      <td>649.585402</td>\n",
       "      <td>0.000000</td>\n",
       "      <td>1.441176</td>\n",
       "    </tr>\n",
       "    <tr>\n",
       "      <th>4</th>\n",
       "      <td>766.863610</td>\n",
       "      <td>646.109712</td>\n",
       "      <td>0.589349</td>\n",
       "      <td>3763.0</td>\n",
       "      <td>-871.0</td>\n",
       "      <td>1.793003</td>\n",
       "      <td>767.284906</td>\n",
       "      <td>647.004966</td>\n",
       "      <td>0.015518</td>\n",
       "      <td>2.125000</td>\n",
       "    </tr>\n",
       "    <tr>\n",
       "      <th>...</th>\n",
       "      <td>...</td>\n",
       "      <td>...</td>\n",
       "      <td>...</td>\n",
       "      <td>...</td>\n",
       "      <td>...</td>\n",
       "      <td>...</td>\n",
       "      <td>...</td>\n",
       "      <td>...</td>\n",
       "      <td>...</td>\n",
       "      <td>...</td>\n",
       "    </tr>\n",
       "    <tr>\n",
       "      <th>260</th>\n",
       "      <td>869.817762</td>\n",
       "      <td>661.644994</td>\n",
       "      <td>0.860105</td>\n",
       "      <td>2929.0</td>\n",
       "      <td>-701.0</td>\n",
       "      <td>5.668158</td>\n",
       "      <td>870.713015</td>\n",
       "      <td>659.643839</td>\n",
       "      <td>0.015627</td>\n",
       "      <td>-2.235294</td>\n",
       "    </tr>\n",
       "    <tr>\n",
       "      <th>261</th>\n",
       "      <td>869.501790</td>\n",
       "      <td>662.329599</td>\n",
       "      <td>0.848630</td>\n",
       "      <td>2929.0</td>\n",
       "      <td>-701.0</td>\n",
       "      <td>5.668158</td>\n",
       "      <td>869.817762</td>\n",
       "      <td>661.644994</td>\n",
       "      <td>0.000000</td>\n",
       "      <td>-2.166667</td>\n",
       "    </tr>\n",
       "    <tr>\n",
       "      <th>262</th>\n",
       "      <td>869.343804</td>\n",
       "      <td>662.645571</td>\n",
       "      <td>0.842527</td>\n",
       "      <td>2929.0</td>\n",
       "      <td>-701.0</td>\n",
       "      <td>5.683881</td>\n",
       "      <td>869.501790</td>\n",
       "      <td>662.329599</td>\n",
       "      <td>0.015723</td>\n",
       "      <td>-2.000000</td>\n",
       "    </tr>\n",
       "    <tr>\n",
       "      <th>263</th>\n",
       "      <td>869.238480</td>\n",
       "      <td>662.961543</td>\n",
       "      <td>0.836423</td>\n",
       "      <td>2929.0</td>\n",
       "      <td>-701.0</td>\n",
       "      <td>5.699404</td>\n",
       "      <td>869.343804</td>\n",
       "      <td>662.645571</td>\n",
       "      <td>0.015523</td>\n",
       "      <td>-3.000000</td>\n",
       "    </tr>\n",
       "    <tr>\n",
       "      <th>264</th>\n",
       "      <td>869.133156</td>\n",
       "      <td>663.856796</td>\n",
       "      <td>0.741451</td>\n",
       "      <td>2879.0</td>\n",
       "      <td>-687.0</td>\n",
       "      <td>5.699404</td>\n",
       "      <td>869.238480</td>\n",
       "      <td>662.961543</td>\n",
       "      <td>0.000000</td>\n",
       "      <td>-8.500000</td>\n",
       "    </tr>\n",
       "  </tbody>\n",
       "</table>\n",
       "<p>265 rows × 10 columns</p>\n",
       "</div>"
      ],
      "text/plain": [
       "              X           Y  Pressure   TiltX  TiltY       sec         s_X  \\\n",
       "0    774.499596  651.059938  0.535882  3763.0 -871.0  1.745672    0.000000   \n",
       "1    771.234554  650.796628  0.553460  3763.0 -871.0  1.761665  774.499596   \n",
       "2    769.075413  649.585402  0.561273  3763.0 -871.0  1.777485  771.234554   \n",
       "3    767.284906  647.004966  0.579583  3763.0 -871.0  1.777485  769.075413   \n",
       "4    766.863610  646.109712  0.589349  3763.0 -871.0  1.793003  767.284906   \n",
       "..          ...         ...       ...     ...    ...       ...         ...   \n",
       "260  869.817762  661.644994  0.860105  2929.0 -701.0  5.668158  870.713015   \n",
       "261  869.501790  662.329599  0.848630  2929.0 -701.0  5.668158  869.817762   \n",
       "262  869.343804  662.645571  0.842527  2929.0 -701.0  5.683881  869.501790   \n",
       "263  869.238480  662.961543  0.836423  2929.0 -701.0  5.699404  869.343804   \n",
       "264  869.133156  663.856796  0.741451  2879.0 -687.0  5.699404  869.238480   \n",
       "\n",
       "            s_Y     s_sec         m  \n",
       "0      0.000000  0.000000  0.840620  \n",
       "1    651.059938  0.015993  0.080645  \n",
       "2    650.796628  0.015820  0.560976  \n",
       "3    649.585402  0.000000  1.441176  \n",
       "4    647.004966  0.015518  2.125000  \n",
       "..          ...       ...       ...  \n",
       "260  659.643839  0.015627 -2.235294  \n",
       "261  661.644994  0.000000 -2.166667  \n",
       "262  662.329599  0.015723 -2.000000  \n",
       "263  662.645571  0.015523 -3.000000  \n",
       "264  662.961543  0.000000 -8.500000  \n",
       "\n",
       "[265 rows x 10 columns]"
      ]
     },
     "execution_count": 97,
     "metadata": {},
     "output_type": "execute_result"
    }
   ],
   "source": [
    "kish"
   ]
  },
  {
   "cell_type": "code",
   "execution_count": 98,
   "id": "da61d5f8",
   "metadata": {},
   "outputs": [
    {
     "data": {
      "text/plain": [
       "<AxesSubplot:>"
      ]
     },
     "execution_count": 98,
     "metadata": {},
     "output_type": "execute_result"
    },
    {
     "data": {
      "image/png": "[encoded data removed]",
      "text/plain": [
       "<Figure size 432x288 with 1 Axes>"
      ]
     },
     "metadata": {
      "needs_background": "light"
     },
     "output_type": "display_data"
    }
   ],
   "source": [
    "kish.m.plot()"
   ]
  },
  {
   "cell_type": "code",
   "execution_count": 99,
   "id": "68d428fa",
   "metadata": {},
   "outputs": [],
   "source": [
    "kish['m_diff'] = np.abs(kish.m - kish.m.shift()) "
   ]
  },
  {
   "cell_type": "code",
   "execution_count": 100,
   "id": "05f69e30",
   "metadata": {},
   "outputs": [
    {
     "data": {
      "text/plain": [
       "<AxesSubplot:>"
      ]
     },
     "execution_count": 100,
     "metadata": {},
     "output_type": "execute_result"
    },
    {
     "data": {
      "image/png": "[encoded data removed]",
      "text/plain": [
       "<Figure size 432x288 with 1 Axes>"
      ]
     },
     "metadata": {
      "needs_background": "light"
     },
     "output_type": "display_data"
    }
   ],
   "source": [
    "kish.m_diff.plot()"
   ]
  },
  {
   "cell_type": "code",
   "execution_count": 166,
   "id": "c61c8f56",
   "metadata": {},
   "outputs": [],
   "source": [
    "lines = []\n",
    "for i in kish.index:\n",
    "    if kish.iloc[i].m_diff <=2 and kish.iloc[i].m_diff != np.nan :\n",
    "        start = i\n",
    "        end = i\n",
    "        while i < len(kish) and kish.iloc[i].m_diff <=2:\n",
    "            end = end + 1 \n",
    "            i = end\n",
    "        i = end\n",
    "        if end - start >= 10:\n",
    "            if len(lines) > 0 and end - lines[len(lines)-1][1] > 1:\n",
    "                lines.append((start, end))\n",
    "            if len(lines) == 0:\n",
    "                lines.append((start, end))"
   ]
  },
  {
   "cell_type": "code",
   "execution_count": 167,
   "id": "2899e999",
   "metadata": {},
   "outputs": [
    {
     "data": {
      "text/plain": [
       "[(45, 133), (170, 196), (214, 236), (244, 264)]"
      ]
     },
     "execution_count": 167,
     "metadata": {},
     "output_type": "execute_result"
    }
   ],
   "source": [
    "lines"
   ]
  },
  {
   "cell_type": "code",
   "execution_count": 169,
   "id": "94ae7e67",
   "metadata": {},
   "outputs": [
    {
     "name": "stdout",
     "output_type": "stream",
     "text": [
      "there are 4 lines drawn\n"
     ]
    }
   ],
   "source": [
    "print('there are', len(lines), 'lines drawn')"
   ]
  },
  {
   "cell_type": "code",
   "execution_count": 177,
   "id": "1cece178",
   "metadata": {},
   "outputs": [],
   "source": [
    "pavg = []\n",
    "for l in lines:\n",
    "    t = []\n",
    "    for i in range (l[0], l[1]):\n",
    "        t.append(kish.Pressure[i])\n",
    "    pavg.append(sum(t)/len(t))"
   ]
  },
  {
   "cell_type": "code",
   "execution_count": 178,
   "id": "a914e7a9",
   "metadata": {},
   "outputs": [
    {
     "data": {
      "text/plain": [
       "[0.8724151646549051,\n",
       " 0.9491804150434641,\n",
       " 0.7693501751531254,\n",
       " 0.8410254091024397]"
      ]
     },
     "execution_count": 178,
     "metadata": {},
     "output_type": "execute_result"
    }
   ],
   "source": [
    "pavg"
   ]
  },
  {
   "cell_type": "code",
   "execution_count": 180,
   "id": "5eb6aa83",
   "metadata": {},
   "outputs": [],
   "source": [
    "leng = []\n",
    "for l in lines:\n",
    "    t = []\n",
    "    for i in range(l[0] + 1, l[1]):\n",
    "        dist = np.sqrt( (kish.X[i] - kish.X[i-1])**2 + (kish.Y[i] - kish.Y[i-1])**2 )\n",
    "        t.append(dist)\n",
    "    leng.append(sum(t))\n",
    "    "
   ]
  },
  {
   "cell_type": "code",
   "execution_count": 181,
   "id": "ba457a67",
   "metadata": {},
   "outputs": [
    {
     "data": {
      "text/plain": [
       "[125.77338167790131, 43.92511940685221, 70.3786603059607, 24.79261082877317]"
      ]
     },
     "execution_count": 181,
     "metadata": {},
     "output_type": "execute_result"
    }
   ],
   "source": [
    "leng"
   ]
  },
  {
   "cell_type": "code",
   "execution_count": null,
   "id": "68258c1e",
   "metadata": {},
   "outputs": [],
   "source": []
  },
  {
   "cell_type": "code",
   "execution_count": null,
   "id": "1cc763dd",
   "metadata": {},
   "outputs": [],
   "source": []
  },
  {
   "cell_type": "code",
   "execution_count": null,
   "id": "b84a7088",
   "metadata": {},
   "outputs": [],
   "source": []
  },
  {
   "cell_type": "code",
   "execution_count": null,
   "id": "c1daad3a",
   "metadata": {},
   "outputs": [],
   "source": []
  },
  {
   "cell_type": "code",
   "execution_count": null,
   "id": "f92c24b4",
   "metadata": {},
   "outputs": [],
   "source": []
  },
  {
   "cell_type": "code",
   "execution_count": null,
   "id": "c0529880",
   "metadata": {},
   "outputs": [],
   "source": []
  },
  {
   "cell_type": "code",
   "execution_count": null,
   "id": "c194575a",
   "metadata": {},
   "outputs": [],
   "source": []
  },
  {
   "cell_type": "code",
   "execution_count": null,
   "id": "8d7e1178",
   "metadata": {},
   "outputs": [],
   "source": []
  },
  {
   "cell_type": "code",
   "execution_count": null,
   "id": "6b631389",
   "metadata": {},
   "outputs": [],
   "source": []
  },
  {
   "cell_type": "code",
   "execution_count": null,
   "id": "220e33ed",
   "metadata": {},
   "outputs": [],
   "source": []
  },
  {
   "cell_type": "code",
   "execution_count": null,
   "id": "33e603c6",
   "metadata": {},
   "outputs": [],
   "source": []
  }
 ],
 "metadata": {
  "kernelspec": {
   "display_name": "Python 3 (ipykernel)",
   "language": "python",
   "name": "python3"
  },
  "language_info": {
   "codemirror_mode": {
    "name": "ipython",
    "version": 3
   },
   "file_extension": ".py",
   "mimetype": "text/x-python",
   "name": "python",
   "nbconvert_exporter": "python",
   "pygments_lexer": "ipython3",
   "version": "3.9.7"
  }
 },
 "nbformat": 4,
 "nbformat_minor": 5
}
