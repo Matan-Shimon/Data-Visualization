{
 "cells": [
  {
   "cell_type": "code",
   "execution_count": 1,
   "id": "fd5db270",
   "metadata": {},
   "outputs": [],
   "source": [
    "import pandas as pd\n",
    "import numpy as np"
   ]
  },
  {
   "cell_type": "code",
   "execution_count": 9,
   "id": "c2014658",
   "metadata": {},
   "outputs": [
    {
     "data": {
      "text/html": [
       "<div>\n",
       "<style scoped>\n",
       "    .dataframe tbody tr th:only-of-type {\n",
       "        vertical-align: middle;\n",
       "    }\n",
       "\n",
       "    .dataframe tbody tr th {\n",
       "        vertical-align: top;\n",
       "    }\n",
       "\n",
       "    .dataframe thead th {\n",
       "        text-align: right;\n",
       "    }\n",
       "</style>\n",
       "<table border=\"1\" class=\"dataframe\">\n",
       "  <thead>\n",
       "    <tr style=\"text-align: right;\">\n",
       "      <th></th>\n",
       "      <th>X</th>\n",
       "      <th>Y</th>\n",
       "      <th>Pressure</th>\n",
       "      <th>TiltX</th>\n",
       "      <th>TiltY</th>\n",
       "      <th>Time</th>\n",
       "    </tr>\n",
       "  </thead>\n",
       "  <tbody>\n",
       "    <tr>\n",
       "      <th>0</th>\n",
       "      <td>719.415174962467</td>\n",
       "      <td>500.762675</td>\n",
       "      <td>0.321523</td>\n",
       "      <td>-4394.0</td>\n",
       "      <td>1116.0</td>\n",
       "      <td>00:03.8377831</td>\n",
       "    </tr>\n",
       "    <tr>\n",
       "      <th>1</th>\n",
       "      <td>720.468414366555</td>\n",
       "      <td>500.867999</td>\n",
       "      <td>0.326650</td>\n",
       "      <td>-4394.0</td>\n",
       "      <td>1116.0</td>\n",
       "      <td>00:03.8534071</td>\n",
       "    </tr>\n",
       "    <tr>\n",
       "      <th>2</th>\n",
       "      <td>720.995034068599</td>\n",
       "      <td>500.499365</td>\n",
       "      <td>0.260243</td>\n",
       "      <td>-4394.0</td>\n",
       "      <td>1116.0</td>\n",
       "      <td>00:03.8690233</td>\n",
       "    </tr>\n",
       "    <tr>\n",
       "      <th>3</th>\n",
       "      <td>720.415752396351</td>\n",
       "      <td>499.972745</td>\n",
       "      <td>0.270497</td>\n",
       "      <td>-4394.0</td>\n",
       "      <td>1116.0</td>\n",
       "      <td>00:03.8847364</td>\n",
       "    </tr>\n",
       "    <tr>\n",
       "      <th>4</th>\n",
       "      <td>718.677907379605</td>\n",
       "      <td>497.866266</td>\n",
       "      <td>0.285389</td>\n",
       "      <td>-4394.0</td>\n",
       "      <td>1116.0</td>\n",
       "      <td>00:03.9003241</td>\n",
       "    </tr>\n",
       "    <tr>\n",
       "      <th>...</th>\n",
       "      <td>...</td>\n",
       "      <td>...</td>\n",
       "      <td>...</td>\n",
       "      <td>...</td>\n",
       "      <td>...</td>\n",
       "      <td>...</td>\n",
       "    </tr>\n",
       "    <tr>\n",
       "      <th>651</th>\n",
       "      <td>484.384801940178</td>\n",
       "      <td>312.127497</td>\n",
       "      <td>0.207752</td>\n",
       "      <td>-3410.0</td>\n",
       "      <td>2257.0</td>\n",
       "      <td>00:43.2763095</td>\n",
       "    </tr>\n",
       "    <tr>\n",
       "      <th>652</th>\n",
       "      <td>484.17415405936</td>\n",
       "      <td>311.916850</td>\n",
       "      <td>0.207752</td>\n",
       "      <td>-3410.0</td>\n",
       "      <td>2257.0</td>\n",
       "      <td>00:43.2920280</td>\n",
       "    </tr>\n",
       "    <tr>\n",
       "      <th>653</th>\n",
       "      <td>482.752280863841</td>\n",
       "      <td>311.179582</td>\n",
       "      <td>0.119860</td>\n",
       "      <td>-3410.0</td>\n",
       "      <td>2257.0</td>\n",
       "      <td>00:43.3075650</td>\n",
       "    </tr>\n",
       "    <tr>\n",
       "      <th>654</th>\n",
       "      <td>Time Elapsed till drawing started: 00:03.8221499</td>\n",
       "      <td>NaN</td>\n",
       "      <td>NaN</td>\n",
       "      <td>NaN</td>\n",
       "      <td>NaN</td>\n",
       "      <td>NaN</td>\n",
       "    </tr>\n",
       "    <tr>\n",
       "      <th>655</th>\n",
       "      <td>Time Elapsed till drawing submit: 00:47.5629365</td>\n",
       "      <td>NaN</td>\n",
       "      <td>NaN</td>\n",
       "      <td>NaN</td>\n",
       "      <td>NaN</td>\n",
       "      <td>NaN</td>\n",
       "    </tr>\n",
       "  </tbody>\n",
       "</table>\n",
       "<p>656 rows × 6 columns</p>\n",
       "</div>"
      ],
      "text/plain": [
       "                                                    X           Y   Pressure  \\\n",
       "0                                    719.415174962467  500.762675   0.321523   \n",
       "1                                    720.468414366555  500.867999   0.326650   \n",
       "2                                    720.995034068599  500.499365   0.260243   \n",
       "3                                    720.415752396351  499.972745   0.270497   \n",
       "4                                    718.677907379605  497.866266   0.285389   \n",
       "..                                                ...         ...        ...   \n",
       "651                                  484.384801940178  312.127497   0.207752   \n",
       "652                                   484.17415405936  311.916850   0.207752   \n",
       "653                                  482.752280863841  311.179582   0.119860   \n",
       "654  Time Elapsed till drawing started: 00:03.8221499         NaN        NaN   \n",
       "655   Time Elapsed till drawing submit: 00:47.5629365         NaN        NaN   \n",
       "\n",
       "      TiltX   TiltY           Time  \n",
       "0   -4394.0  1116.0  00:03.8377831  \n",
       "1   -4394.0  1116.0  00:03.8534071  \n",
       "2   -4394.0  1116.0  00:03.8690233  \n",
       "3   -4394.0  1116.0  00:03.8847364  \n",
       "4   -4394.0  1116.0  00:03.9003241  \n",
       "..      ...     ...            ...  \n",
       "651 -3410.0  2257.0  00:43.2763095  \n",
       "652 -3410.0  2257.0  00:43.2920280  \n",
       "653 -3410.0  2257.0  00:43.3075650  \n",
       "654     NaN     NaN            NaN  \n",
       "655     NaN     NaN            NaN  \n",
       "\n",
       "[656 rows x 6 columns]"
      ]
     },
     "execution_count": 9,
     "metadata": {},
     "output_type": "execute_result"
    }
   ],
   "source": [
    "kish = pd.read_csv(r'C:\\\\Users\\Gilad\\train\\7554\\SimpleTest\\21.csv')\n",
    "kish"
   ]
  },
  {
   "cell_type": "code",
   "execution_count": 10,
   "id": "4216a056",
   "metadata": {},
   "outputs": [],
   "source": [
    "kish.dropna(axis = 0, inplace = True)"
   ]
  },
  {
   "cell_type": "code",
   "execution_count": 11,
   "id": "8c0c68bb",
   "metadata": {
    "scrolled": true
   },
   "outputs": [
    {
     "name": "stdout",
     "output_type": "stream",
     "text": [
      "<class 'pandas.core.frame.DataFrame'>\n",
      "Int64Index: 654 entries, 0 to 653\n",
      "Data columns (total 6 columns):\n",
      " #   Column     Non-Null Count  Dtype  \n",
      "---  ------     --------------  -----  \n",
      " 0   X          654 non-null    object \n",
      " 1    Y         654 non-null    float64\n",
      " 2    Pressure  654 non-null    float64\n",
      " 3    TiltX     654 non-null    float64\n",
      " 4    TiltY     654 non-null    float64\n",
      " 5    Time      654 non-null    object \n",
      "dtypes: float64(4), object(2)\n",
      "memory usage: 35.8+ KB\n"
     ]
    }
   ],
   "source": [
    "kish.info()"
   ]
  },
  {
   "cell_type": "code",
   "execution_count": 12,
   "id": "9a681976",
   "metadata": {},
   "outputs": [
    {
     "data": {
      "text/plain": [
       "Index(['X', ' Y', ' Pressure', ' TiltX', ' TiltY', ' Time'], dtype='object')"
      ]
     },
     "execution_count": 12,
     "metadata": {},
     "output_type": "execute_result"
    }
   ],
   "source": [
    "kish.columns"
   ]
  },
  {
   "cell_type": "code",
   "execution_count": 13,
   "id": "59264b6e",
   "metadata": {},
   "outputs": [],
   "source": [
    "kish.columns = kish.columns.str.replace(' ','')"
   ]
  },
  {
   "cell_type": "code",
   "execution_count": 14,
   "id": "6b540877",
   "metadata": {},
   "outputs": [
    {
     "data": {
      "text/plain": [
       "Index(['X', 'Y', 'Pressure', 'TiltX', 'TiltY', 'Time'], dtype='object')"
      ]
     },
     "execution_count": 14,
     "metadata": {},
     "output_type": "execute_result"
    }
   ],
   "source": [
    "kish.columns"
   ]
  },
  {
   "cell_type": "code",
   "execution_count": 19,
   "id": "20a1fcdf",
   "metadata": {},
   "outputs": [],
   "source": [
    "kish[['min', 'sec']] = kish.Time.str.split(':',expand = True)"
   ]
  },
  {
   "cell_type": "code",
   "execution_count": 21,
   "id": "463a9daf",
   "metadata": {},
   "outputs": [],
   "source": [
    "kish.drop('Time', axis = 1, inplace = True)"
   ]
  },
  {
   "cell_type": "code",
   "execution_count": 25,
   "id": "a313152c",
   "metadata": {
    "scrolled": true
   },
   "outputs": [],
   "source": [
    "kish[['min', 'sec']] = kish[['min', 'sec']].astype('float64', )"
   ]
  },
  {
   "cell_type": "code",
   "execution_count": 29,
   "id": "b7c9e1f4",
   "metadata": {},
   "outputs": [],
   "source": [
    "kish.sec = kish['sec'] + kish['min'] * 60.0"
   ]
  },
  {
   "cell_type": "code",
   "execution_count": 31,
   "id": "183908a7",
   "metadata": {},
   "outputs": [],
   "source": [
    "kish.drop('min', axis = 1, inplace = True)"
   ]
  },
  {
   "cell_type": "code",
   "execution_count": 32,
   "id": "e6aeccb5",
   "metadata": {},
   "outputs": [],
   "source": [
    "kish.X = kish.X.astype('float64')"
   ]
  },
  {
   "cell_type": "code",
   "execution_count": 33,
   "id": "61b9010a",
   "metadata": {},
   "outputs": [
    {
     "name": "stdout",
     "output_type": "stream",
     "text": [
      "<class 'pandas.core.frame.DataFrame'>\n",
      "Int64Index: 654 entries, 0 to 653\n",
      "Data columns (total 6 columns):\n",
      " #   Column    Non-Null Count  Dtype  \n",
      "---  ------    --------------  -----  \n",
      " 0   X         654 non-null    float64\n",
      " 1   Y         654 non-null    float64\n",
      " 2   Pressure  654 non-null    float64\n",
      " 3   TiltX     654 non-null    float64\n",
      " 4   TiltY     654 non-null    float64\n",
      " 5   sec       654 non-null    float64\n",
      "dtypes: float64(6)\n",
      "memory usage: 35.8 KB\n"
     ]
    }
   ],
   "source": [
    "kish.info()"
   ]
  },
  {
   "cell_type": "code",
   "execution_count": 34,
   "id": "a465e773",
   "metadata": {},
   "outputs": [],
   "source": [
    "kish['s_X'] = kish.X.shift()"
   ]
  },
  {
   "cell_type": "code",
   "execution_count": 35,
   "id": "da658028",
   "metadata": {},
   "outputs": [],
   "source": [
    "kish['s_Y'] = kish.Y.shift()"
   ]
  },
  {
   "cell_type": "code",
   "execution_count": 36,
   "id": "c24c59b3",
   "metadata": {},
   "outputs": [],
   "source": [
    "kish['s_sec'] = kish.sec.shift()"
   ]
  },
  {
   "cell_type": "code",
   "execution_count": 37,
   "id": "77c10210",
   "metadata": {},
   "outputs": [],
   "source": [
    "kish.s_sec = abs(kish.sec - kish.s_sec)"
   ]
  },
  {
   "cell_type": "code",
   "execution_count": 38,
   "id": "b0e7e2db",
   "metadata": {},
   "outputs": [
    {
     "data": {
      "text/plain": [
       "<AxesSubplot:>"
      ]
     },
     "execution_count": 38,
     "metadata": {},
     "output_type": "execute_result"
    },
    {
     "data": {
      "image/png": "[encoded data removed]",
      "text/plain": [
       "<Figure size 432x288 with 1 Axes>"
      ]
     },
     "metadata": {
      "needs_background": "light"
     },
     "output_type": "display_data"
    }
   ],
   "source": [
    "kish.s_sec.plot()"
   ]
  },
  {
   "cell_type": "code",
   "execution_count": 40,
   "id": "72253ebd",
   "metadata": {},
   "outputs": [
    {
     "data": {
      "text/html": [
       "<div>\n",
       "<style scoped>\n",
       "    .dataframe tbody tr th:only-of-type {\n",
       "        vertical-align: middle;\n",
       "    }\n",
       "\n",
       "    .dataframe tbody tr th {\n",
       "        vertical-align: top;\n",
       "    }\n",
       "\n",
       "    .dataframe thead th {\n",
       "        text-align: right;\n",
       "    }\n",
       "</style>\n",
       "<table border=\"1\" class=\"dataframe\">\n",
       "  <thead>\n",
       "    <tr style=\"text-align: right;\">\n",
       "      <th></th>\n",
       "      <th>X</th>\n",
       "      <th>Y</th>\n",
       "      <th>Pressure</th>\n",
       "      <th>TiltX</th>\n",
       "      <th>TiltY</th>\n",
       "      <th>sec</th>\n",
       "      <th>s_X</th>\n",
       "      <th>s_Y</th>\n",
       "      <th>s_sec</th>\n",
       "    </tr>\n",
       "  </thead>\n",
       "  <tbody>\n",
       "    <tr>\n",
       "      <th>60</th>\n",
       "      <td>761.755399</td>\n",
       "      <td>481.435732</td>\n",
       "      <td>0.190661</td>\n",
       "      <td>-5042.0</td>\n",
       "      <td>2440.0</td>\n",
       "      <td>5.598896</td>\n",
       "      <td>570.539785</td>\n",
       "      <td>402.706086</td>\n",
       "      <td>1.093955</td>\n",
       "    </tr>\n",
       "    <tr>\n",
       "      <th>403</th>\n",
       "      <td>727.893752</td>\n",
       "      <td>509.188590</td>\n",
       "      <td>0.030503</td>\n",
       "      <td>-3958.0</td>\n",
       "      <td>1625.0</td>\n",
       "      <td>10.720107</td>\n",
       "      <td>580.071602</td>\n",
       "      <td>405.971128</td>\n",
       "      <td>1.402136</td>\n",
       "    </tr>\n",
       "    <tr>\n",
       "      <th>452</th>\n",
       "      <td>333.929553</td>\n",
       "      <td>353.098510</td>\n",
       "      <td>0.028061</td>\n",
       "      <td>-3227.0</td>\n",
       "      <td>2362.0</td>\n",
       "      <td>21.443736</td>\n",
       "      <td>777.132694</td>\n",
       "      <td>486.701929</td>\n",
       "      <td>10.200283</td>\n",
       "    </tr>\n",
       "    <tr>\n",
       "      <th>519</th>\n",
       "      <td>347.726989</td>\n",
       "      <td>416.661508</td>\n",
       "      <td>0.189441</td>\n",
       "      <td>-3355.0</td>\n",
       "      <td>2041.0</td>\n",
       "      <td>22.803021</td>\n",
       "      <td>371.477538</td>\n",
       "      <td>440.517381</td>\n",
       "      <td>0.578127</td>\n",
       "    </tr>\n",
       "    <tr>\n",
       "      <th>567</th>\n",
       "      <td>508.398660</td>\n",
       "      <td>306.124033</td>\n",
       "      <td>0.103502</td>\n",
       "      <td>-3586.0</td>\n",
       "      <td>2533.0</td>\n",
       "      <td>41.484234</td>\n",
       "      <td>335.351426</td>\n",
       "      <td>414.871001</td>\n",
       "      <td>18.165692</td>\n",
       "    </tr>\n",
       "    <tr>\n",
       "      <th>646</th>\n",
       "      <td>483.384225</td>\n",
       "      <td>314.602610</td>\n",
       "      <td>0.198962</td>\n",
       "      <td>-3410.0</td>\n",
       "      <td>2257.0</td>\n",
       "      <td>43.211846</td>\n",
       "      <td>502.395196</td>\n",
       "      <td>309.652385</td>\n",
       "      <td>0.888772</td>\n",
       "    </tr>\n",
       "  </tbody>\n",
       "</table>\n",
       "</div>"
      ],
      "text/plain": [
       "              X           Y  Pressure   TiltX   TiltY        sec         s_X  \\\n",
       "60   761.755399  481.435732  0.190661 -5042.0  2440.0   5.598896  570.539785   \n",
       "403  727.893752  509.188590  0.030503 -3958.0  1625.0  10.720107  580.071602   \n",
       "452  333.929553  353.098510  0.028061 -3227.0  2362.0  21.443736  777.132694   \n",
       "519  347.726989  416.661508  0.189441 -3355.0  2041.0  22.803021  371.477538   \n",
       "567  508.398660  306.124033  0.103502 -3586.0  2533.0  41.484234  335.351426   \n",
       "646  483.384225  314.602610  0.198962 -3410.0  2257.0  43.211846  502.395196   \n",
       "\n",
       "            s_Y      s_sec  \n",
       "60   402.706086   1.093955  \n",
       "403  405.971128   1.402136  \n",
       "452  486.701929  10.200283  \n",
       "519  440.517381   0.578127  \n",
       "567  414.871001  18.165692  \n",
       "646  309.652385   0.888772  "
      ]
     },
     "execution_count": 40,
     "metadata": {},
     "output_type": "execute_result"
    }
   ],
   "source": [
    "lines = kish[kish['s_sec'] > 0.1]\n",
    "lines"
   ]
  },
  {
   "cell_type": "code",
   "execution_count": 42,
   "id": "8ff1ce5f",
   "metadata": {},
   "outputs": [
    {
     "name": "stdout",
     "output_type": "stream",
     "text": [
      "So, the pen was lifted 6 times\n",
      "And, there were 7 lines drawn\n"
     ]
    }
   ],
   "source": [
    "print('So, the pen was lifted',len(kish[kish['s_sec'] > 0.1]),'times' )\n",
    "print('And, there were',len(kish[kish['s_sec'] > 0.1])+1, 'lines drawn')"
   ]
  },
  {
   "cell_type": "code",
   "execution_count": 43,
   "id": "d643501e",
   "metadata": {},
   "outputs": [],
   "source": [
    "pavg = []\n",
    "for i in range(len(lines.index)):\n",
    "    t = []\n",
    "    if (i > 0):\n",
    "        n = lines.index[i-1]\n",
    "    else:\n",
    "        n = 0\n",
    "    for r in range(n, lines.index[i]):\n",
    "        t.append(kish.Pressure[r])\n",
    "    pavg.append(sum(t) / len(t))\n",
    "t = []\n",
    "for r in range(lines.index[-1] , len(kish)-1):\n",
    "    t.append(kish.Pressure[r])\n",
    "pavg.append(sum(t) / len(t))"
   ]
  },
  {
   "cell_type": "code",
   "execution_count": 44,
   "id": "ba348f41",
   "metadata": {},
   "outputs": [
    {
     "data": {
      "text/plain": [
       "[0.4477739627162615,\n",
       " 0.6683807960404599,\n",
       " 0.35802492248464596,\n",
       " 0.3743819229638399,\n",
       " 0.3660181586941083,\n",
       " 0.366358876511266,\n",
       " 0.20367088701043828]"
      ]
     },
     "execution_count": 44,
     "metadata": {},
     "output_type": "execute_result"
    }
   ],
   "source": [
    "pavg"
   ]
  },
  {
   "cell_type": "code",
   "execution_count": 45,
   "id": "18c9b72c",
   "metadata": {},
   "outputs": [],
   "source": [
    "leng = []\n",
    "for i in range(len(lines.index)):\n",
    "    t = []\n",
    "    if (i > 0):\n",
    "        n = lines.index[i-1]\n",
    "    else:\n",
    "        n = 0\n",
    "    for r in range(n, lines.index[i]):\n",
    "        if (r == n):\n",
    "            t.append(0)\n",
    "        else:\n",
    "            dist = np.sqrt( (kish.X[r] - kish.X[r-1])**2 + (kish.Y[r] - kish.Y[r-1])**2 )\n",
    "            t.append(dist)\n",
    "    leng.append(sum(t))\n",
    "t = []\n",
    "for r in range(lines.index[-1] , len(kish)-1):\n",
    "    if (r == lines.index[-1]):\n",
    "            t.append(0)\n",
    "    else:\n",
    "        dist = np.sqrt( (kish.X[r] - kish.X[r-1])**2 + (kish.Y[r] - kish.Y[r-1])**2 )\n",
    "        t.append(dist)\n",
    "leng.append(sum(t))"
   ]
  },
  {
   "cell_type": "code",
   "execution_count": 46,
   "id": "26776e92",
   "metadata": {},
   "outputs": [
    {
     "data": {
      "text/plain": [
       "[183.040752025522,\n",
       " 915.507893545692,\n",
       " 56.68284615115267,\n",
       " 100.57252137820893,\n",
       " 92.41002662246035,\n",
       " 203.5614408781861,\n",
       " 3.409563332070532]"
      ]
     },
     "execution_count": 46,
     "metadata": {},
     "output_type": "execute_result"
    }
   ],
   "source": [
    "leng"
   ]
  },
  {
   "cell_type": "code",
   "execution_count": null,
   "id": "220e33ed",
   "metadata": {},
   "outputs": [],
   "source": []
  },
  {
   "cell_type": "code",
   "execution_count": null,
   "id": "33e603c6",
   "metadata": {},
   "outputs": [],
   "source": []
  }
 ],
 "metadata": {
  "kernelspec": {
   "display_name": "Python 3 (ipykernel)",
   "language": "python",
   "name": "python3"
  },
  "language_info": {
   "codemirror_mode": {
    "name": "ipython",
    "version": 3
   },
   "file_extension": ".py",
   "mimetype": "text/x-python",
   "name": "python",
   "nbconvert_exporter": "python",
   "pygments_lexer": "ipython3",
   "version": "3.9.7"
  }
 },
 "nbformat": 4,
 "nbformat_minor": 5
}
